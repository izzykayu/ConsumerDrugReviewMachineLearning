{
 "cells": [
  {
   "cell_type": "code",
   "execution_count": 1,
   "metadata": {},
   "outputs": [
    {
     "name": "stderr",
     "output_type": "stream",
     "text": [
      "b'Skipping line 10317: expected 15 fields, saw 22\\nSkipping line 40632: expected 15 fields, saw 22\\nSkipping line 49643: expected 15 fields, saw 22\\nSkipping line 54096: expected 15 fields, saw 22\\nSkipping line 63958: expected 15 fields, saw 22\\nSkipping line 64322: expected 15 fields, saw 22\\nSkipping line 112718: expected 15 fields, saw 22\\nSkipping line 156739: expected 15 fields, saw 22\\nSkipping line 158865: expected 15 fields, saw 22\\nSkipping line 192178: expected 15 fields, saw 22\\nSkipping line 228364: expected 15 fields, saw 22\\nSkipping line 228763: expected 15 fields, saw 22\\nSkipping line 233558: expected 15 fields, saw 22\\nSkipping line 234939: expected 15 fields, saw 22\\nSkipping line 247329: expected 15 fields, saw 22\\nSkipping line 250514: expected 15 fields, saw 22\\nSkipping line 259994: expected 15 fields, saw 22\\nSkipping line 278327: expected 15 fields, saw 22\\nSkipping line 287267: expected 15 fields, saw 22\\nSkipping line 292441: expected 15 fields, saw 22\\nSkipping line 293841: expected 15 fields, saw 22\\nSkipping line 326941: expected 15 fields, saw 22\\nSkipping line 336530: expected 15 fields, saw 22\\nSkipping line 348985: expected 15 fields, saw 22\\nSkipping line 353882: expected 15 fields, saw 22\\nSkipping line 358728: expected 15 fields, saw 22\\nSkipping line 360029: expected 15 fields, saw 22\\nSkipping line 371191: expected 15 fields, saw 22\\nSkipping line 374026: expected 15 fields, saw 22\\nSkipping line 390416: expected 15 fields, saw 22\\nSkipping line 436975: expected 15 fields, saw 22\\nSkipping line 444825: expected 15 fields, saw 22\\nSkipping line 467361: expected 15 fields, saw 22\\nSkipping line 468224: expected 15 fields, saw 22\\nSkipping line 472917: expected 15 fields, saw 22\\nSkipping line 476400: expected 15 fields, saw 22\\nSkipping line 482802: expected 15 fields, saw 22\\nSkipping line 533723: expected 15 fields, saw 22\\nSkipping line 534835: expected 15 fields, saw 22\\nSkipping line 538427: expected 15 fields, saw 22\\nSkipping line 545307: expected 15 fields, saw 22\\nSkipping line 565218: expected 15 fields, saw 22\\nSkipping line 576554: expected 15 fields, saw 22\\nSkipping line 576577: expected 15 fields, saw 22\\nSkipping line 598664: expected 15 fields, saw 22\\nSkipping line 608474: expected 15 fields, saw 22\\nSkipping line 619217: expected 15 fields, saw 22\\nSkipping line 620559: expected 15 fields, saw 22\\nSkipping line 630855: expected 15 fields, saw 22\\nSkipping line 657430: expected 15 fields, saw 22\\nSkipping line 662456: expected 15 fields, saw 22\\nSkipping line 695690: expected 15 fields, saw 22\\nSkipping line 726754: expected 15 fields, saw 22\\nSkipping line 743506: expected 15 fields, saw 22\\nSkipping line 747829: expected 15 fields, saw 22\\nSkipping line 760420: expected 15 fields, saw 22\\nSkipping line 771893: expected 15 fields, saw 22\\nSkipping line 782266: expected 15 fields, saw 22\\nSkipping line 819241: expected 15 fields, saw 22\\nSkipping line 819345: expected 15 fields, saw 22\\nSkipping line 819424: expected 15 fields, saw 22\\nSkipping line 843790: expected 15 fields, saw 22\\nSkipping line 865601: expected 15 fields, saw 22\\nSkipping line 867074: expected 15 fields, saw 22\\nSkipping line 867162: expected 15 fields, saw 22\\nSkipping line 881498: expected 15 fields, saw 22\\nSkipping line 894457: expected 15 fields, saw 22\\nSkipping line 901455: expected 15 fields, saw 22\\nSkipping line 914047: expected 15 fields, saw 22\\nSkipping line 915469: expected 15 fields, saw 22\\nSkipping line 918793: expected 15 fields, saw 22\\nSkipping line 925925: expected 15 fields, saw 22\\nSkipping line 941777: expected 15 fields, saw 22\\nSkipping line 953538: expected 15 fields, saw 22\\nSkipping line 953809: expected 15 fields, saw 22\\nSkipping line 954758: expected 15 fields, saw 22\\nSkipping line 954913: expected 15 fields, saw 22\\nSkipping line 955782: expected 15 fields, saw 22\\nSkipping line 956033: expected 15 fields, saw 22\\nSkipping line 956423: expected 15 fields, saw 22\\nSkipping line 956456: expected 15 fields, saw 22\\nSkipping line 956520: expected 15 fields, saw 22\\nSkipping line 956526: expected 15 fields, saw 22\\nSkipping line 962763: expected 15 fields, saw 22\\nSkipping line 964864: expected 15 fields, saw 22\\nSkipping line 980990: expected 15 fields, saw 22\\nSkipping line 981502: expected 15 fields, saw 22\\nSkipping line 990297: expected 15 fields, saw 22\\nSkipping line 1004460: expected 15 fields, saw 22\\nSkipping line 1008253: expected 15 fields, saw 22\\nSkipping line 1011511: expected 15 fields, saw 22\\nSkipping line 1029665: expected 15 fields, saw 22\\nSkipping line 1060044: expected 15 fields, saw 22\\nSkipping line 1075298: expected 15 fields, saw 22\\nSkipping line 1098037: expected 15 fields, saw 22\\nSkipping line 1098504: expected 15 fields, saw 22\\nSkipping line 1101846: expected 15 fields, saw 22\\nSkipping line 1133920: expected 15 fields, saw 22\\nSkipping line 1138135: expected 15 fields, saw 22\\nSkipping line 1139618: expected 15 fields, saw 22\\nSkipping line 1147215: expected 15 fields, saw 22\\nSkipping line 1197300: expected 15 fields, saw 22\\nSkipping line 1216554: expected 15 fields, saw 22\\nSkipping line 1237366: expected 15 fields, saw 22\\nSkipping line 1238605: expected 15 fields, saw 22\\nSkipping line 1244609: expected 15 fields, saw 22\\nSkipping line 1250952: expected 15 fields, saw 22\\nSkipping line 1258065: expected 15 fields, saw 22\\nSkipping line 1312650: expected 15 fields, saw 22\\nSkipping line 1323676: expected 15 fields, saw 22\\nSkipping line 1361503: expected 15 fields, saw 22\\nSkipping line 1380649: expected 15 fields, saw 22\\nSkipping line 1396094: expected 15 fields, saw 22\\nSkipping line 1407470: expected 15 fields, saw 22\\nSkipping line 1408815: expected 15 fields, saw 22\\nSkipping line 1415148: expected 15 fields, saw 22\\nSkipping line 1438413: expected 15 fields, saw 22\\nSkipping line 1441984: expected 15 fields, saw 22\\nSkipping line 1460187: expected 15 fields, saw 22\\nSkipping line 1461977: expected 15 fields, saw 22\\nSkipping line 1471885: expected 15 fields, saw 22\\nSkipping line 1489718: expected 15 fields, saw 22\\nSkipping line 1495525: expected 15 fields, saw 22\\nSkipping line 1507149: expected 15 fields, saw 22\\nSkipping line 1507358: expected 15 fields, saw 22\\nSkipping line 1529382: expected 15 fields, saw 22\\nSkipping line 1533010: expected 15 fields, saw 22\\nSkipping line 1541094: expected 15 fields, saw 22\\nSkipping line 1588459: expected 15 fields, saw 22\\nSkipping line 1597058: expected 15 fields, saw 22\\nSkipping line 1626068: expected 15 fields, saw 22\\nSkipping line 1667555: expected 15 fields, saw 22\\nSkipping line 1671605: expected 15 fields, saw 22\\nSkipping line 1672048: expected 15 fields, saw 22\\nSkipping line 1686992: expected 15 fields, saw 22\\nSkipping line 1710438: expected 15 fields, saw 22\\nSkipping line 1722156: expected 15 fields, saw 22\\nSkipping line 1725794: expected 15 fields, saw 22\\nSkipping line 1727402: expected 15 fields, saw 22\\nSkipping line 1739227: expected 15 fields, saw 22\\nSkipping line 1743364: expected 15 fields, saw 22\\nSkipping line 1763405: expected 15 fields, saw 22\\nSkipping line 1786260: expected 15 fields, saw 22\\nSkipping line 1789406: expected 15 fields, saw 22\\nSkipping line 1794289: expected 15 fields, saw 22\\nSkipping line 1796412: expected 15 fields, saw 22\\nSkipping line 1810034: expected 15 fields, saw 22\\nSkipping line 1813218: expected 15 fields, saw 22\\nSkipping line 1831114: expected 15 fields, saw 22\\nSkipping line 1835818: expected 15 fields, saw 22\\nSkipping line 1880910: expected 15 fields, saw 22\\nSkipping line 1890945: expected 15 fields, saw 22\\nSkipping line 1893596: expected 15 fields, saw 22\\nSkipping line 1893825: expected 15 fields, saw 22\\nSkipping line 1898233: expected 15 fields, saw 22\\nSkipping line 1906479: expected 15 fields, saw 22\\nSkipping line 1910629: expected 15 fields, saw 22\\nSkipping line 1929137: expected 15 fields, saw 22\\nSkipping line 1931020: expected 15 fields, saw 22\\nSkipping line 1937211: expected 15 fields, saw 22\\nSkipping line 1939590: expected 15 fields, saw 22\\nSkipping line 1945199: expected 15 fields, saw 22\\nSkipping line 1964398: expected 15 fields, saw 22\\nSkipping line 1983160: expected 15 fields, saw 22\\nSkipping line 1995146: expected 15 fields, saw 22\\nSkipping line 2012702: expected 15 fields, saw 22\\nSkipping line 2046560: expected 15 fields, saw 22\\nSkipping line 2047222: expected 15 fields, saw 22\\nSkipping line 2048048: expected 15 fields, saw 22\\nSkipping line 2051893: expected 15 fields, saw 22\\nSkipping line 2060002: expected 15 fields, saw 22\\nSkipping line 2061381: expected 15 fields, saw 22\\nSkipping line 2074807: expected 15 fields, saw 22\\nSkipping line 2080379: expected 15 fields, saw 22\\nSkipping line 2092019: expected 15 fields, saw 22\\nSkipping line 2093691: expected 15 fields, saw 22\\nSkipping line 2130657: expected 15 fields, saw 22\\nSkipping line 2150689: expected 15 fields, saw 22\\nSkipping line 2160908: expected 15 fields, saw 22\\nSkipping line 2170439: expected 15 fields, saw 22\\nSkipping line 2174557: expected 15 fields, saw 22\\nSkipping line 2179858: expected 15 fields, saw 22\\nSkipping line 2181495: expected 15 fields, saw 22\\nSkipping line 2192526: expected 15 fields, saw 22\\nSkipping line 2208869: expected 15 fields, saw 22\\nSkipping line 2209905: expected 15 fields, saw 22\\nSkipping line 2251959: expected 15 fields, saw 22\\nSkipping line 2264795: expected 15 fields, saw 22\\nSkipping line 2265194: expected 15 fields, saw 22\\nSkipping line 2269639: expected 15 fields, saw 22\\nSkipping line 2274503: expected 15 fields, saw 22\\nSkipping line 2310923: expected 15 fields, saw 22\\nSkipping line 2315668: expected 15 fields, saw 22\\nSkipping line 2322902: expected 15 fields, saw 22\\nSkipping line 2324988: expected 15 fields, saw 22\\nSkipping line 2330479: expected 15 fields, saw 22\\nSkipping line 2337596: expected 15 fields, saw 22\\nSkipping line 2339371: expected 15 fields, saw 22\\nSkipping line 2370884: expected 15 fields, saw 22\\nSkipping line 2372394: expected 15 fields, saw 22\\nSkipping line 2374782: expected 15 fields, saw 22\\nSkipping line 2374869: expected 15 fields, saw 22\\nSkipping line 2374925: expected 15 fields, saw 22\\nSkipping line 2409153: expected 15 fields, saw 22\\nSkipping line 2414217: expected 15 fields, saw 22\\nSkipping line 2422682: expected 15 fields, saw 22\\nSkipping line 2427937: expected 15 fields, saw 22\\nSkipping line 2431454: expected 15 fields, saw 22\\nSkipping line 2452600: expected 15 fields, saw 22\\nSkipping line 2497450: expected 15 fields, saw 22\\nSkipping line 2498065: expected 15 fields, saw 22\\nSkipping line 2507674: expected 15 fields, saw 22\\nSkipping line 2508510: expected 15 fields, saw 22\\nSkipping line 2516588: expected 15 fields, saw 22\\nSkipping line 2519654: expected 15 fields, saw 22\\nSkipping line 2546047: expected 15 fields, saw 22\\nSkipping line 2562411: expected 15 fields, saw 22\\nSkipping line 2563113: expected 15 fields, saw 22\\nSkipping line 2574105: expected 15 fields, saw 22\\nSkipping line 2579550: expected 15 fields, saw 22\\nSkipping line 2584253: expected 15 fields, saw 22\\nSkipping line 2584982: expected 15 fields, saw 22\\nSkipping line 2585236: expected 15 fields, saw 22\\nSkipping line 2599167: expected 15 fields, saw 22\\nSkipping line 2616719: expected 15 fields, saw 22\\nSkipping line 2618275: expected 15 fields, saw 22\\nSkipping line 2649750: expected 15 fields, saw 22\\nSkipping line 2699990: expected 15 fields, saw 22\\nSkipping line 2771139: expected 15 fields, saw 22\\nSkipping line 2772446: expected 15 fields, saw 22\\nSkipping line 2773764: expected 15 fields, saw 22\\nSkipping line 2779916: expected 15 fields, saw 22\\nSkipping line 2789156: expected 15 fields, saw 22\\nSkipping line 2813858: expected 15 fields, saw 22\\nSkipping line 2871013: expected 15 fields, saw 22\\nSkipping line 2888410: expected 15 fields, saw 22\\nSkipping line 2891234: expected 15 fields, saw 22\\nSkipping line 2892244: expected 15 fields, saw 22\\nSkipping line 2921242: expected 15 fields, saw 22\\nSkipping line 2924802: expected 15 fields, saw 22\\nSkipping line 2926510: expected 15 fields, saw 22\\nSkipping line 2942545: expected 15 fields, saw 22\\nSkipping line 2947058: expected 15 fields, saw 22\\nSkipping line 2968231: expected 15 fields, saw 22\\nSkipping line 2970361: expected 15 fields, saw 22\\nSkipping line 2973643: expected 15 fields, saw 22\\nSkipping line 2973861: expected 15 fields, saw 22\\nSkipping line 3172709: expected 15 fields, saw 22\\nSkipping line 3287584: expected 15 fields, saw 22\\nSkipping line 3522058: expected 15 fields, saw 22\\nSkipping line 3577331: expected 15 fields, saw 22\\nSkipping line 3634660: expected 15 fields, saw 22\\nSkipping line 3778009: expected 15 fields, saw 22\\nSkipping line 3815881: expected 15 fields, saw 22\\nSkipping line 4041012: expected 15 fields, saw 22\\nSkipping line 4041328: expected 15 fields, saw 22\\nSkipping line 4160029: expected 15 fields, saw 22\\nSkipping line 4211773: expected 15 fields, saw 22\\nSkipping line 4384400: expected 15 fields, saw 22\\n'\n"
     ]
    },
    {
     "name": "stdout",
     "output_type": "stream",
     "text": [
      "Index(['marketplace', 'customer_id', 'review_id', 'product_id',\n",
      "       'product_parent', 'product_title', 'product_category', 'star_rating',\n",
      "       'helpful_votes', 'total_votes', 'vine', 'verified_purchase',\n",
      "       'review_headline', 'review_body', 'review_date'],\n",
      "      dtype='object')\n"
     ]
    },
    {
     "ename": "NameError",
     "evalue": "name 'laptop_example' is not defined",
     "traceback": [
      "\u001b[0;31m---------------------------------------------------------------------------\u001b[0m",
      "\u001b[0;31mNameError\u001b[0m                                 Traceback (most recent call last)",
      "\u001b[0;32m<ipython-input-1-9d14f43ed31f>\u001b[0m in \u001b[0;36m<module>\u001b[0;34m()\u001b[0m\n\u001b[1;32m     49\u001b[0m         \u001b[0;32mreturn\u001b[0m \u001b[0ms\u001b[0m\u001b[0;34m.\u001b[0m\u001b[0mencode\u001b[0m\u001b[0;34m(\u001b[0m\u001b[0;34m'utf-8'\u001b[0m\u001b[0;34m)\u001b[0m\u001b[0;34m\u001b[0m\u001b[0m\n\u001b[1;32m     50\u001b[0m \u001b[0;34m\u001b[0m\u001b[0m\n\u001b[0;32m---> 51\u001b[0;31m \u001b[0;32mwith\u001b[0m \u001b[0mopen\u001b[0m\u001b[0;34m(\u001b[0m\u001b[0mlaptop_example\u001b[0m\u001b[0;34m,\u001b[0m \u001b[0;34m'rt'\u001b[0m\u001b[0;34m)\u001b[0m \u001b[0;32mas\u001b[0m \u001b[0mfh\u001b[0m\u001b[0;34m:\u001b[0m\u001b[0;34m\u001b[0m\u001b[0m\n\u001b[0m\u001b[1;32m     52\u001b[0m     \u001b[0mcounter\u001b[0m \u001b[0;34m=\u001b[0m \u001b[0;36m0\u001b[0m\u001b[0;34m\u001b[0m\u001b[0m\n\u001b[1;32m     53\u001b[0m     \u001b[0;32mfor\u001b[0m \u001b[0mindex\u001b[0m\u001b[0;34m,\u001b[0m \u001b[0mline\u001b[0m \u001b[0;32min\u001b[0m \u001b[0menumerate\u001b[0m\u001b[0;34m(\u001b[0m\u001b[0mfh\u001b[0m\u001b[0;34m)\u001b[0m\u001b[0;34m:\u001b[0m\u001b[0;34m\u001b[0m\u001b[0m\n",
      "\u001b[0;31mNameError\u001b[0m: name 'laptop_example' is not defined"
     ],
     "output_type": "error"
    }
   ],
   "source": [
    "import pandas as pd\n",
    "import numpy as np\n",
    "import ujson\n",
    "from io import open\n",
    "import pprint\n",
    "from vaderSentiment.vaderSentiment import SentimentIntensityAnalyzer\n",
    "#smart_app = \n",
    "\n",
    "amazon_personal_health= pd.read_csv('datasets/amazon_reviews_us_Health_Personal_Care_v1_00.tsv',encoding = 'latin1', sep='\\t', error_bad_lines=False, low_memory=False)\n",
    "print(amazon_personal_health.columns)\n",
    "\n",
    "\n",
    "def flatten_json(y):\n",
    "    out = {}\n",
    "\n",
    "    def flatten(x, name=''):\n",
    "        if type(x) is dict:\n",
    "            for a in x:\n",
    "                flatten(x[a], name + a + '_')\n",
    "        elif type(x) is list:\n",
    "            i = 0\n",
    "            for a in x:\n",
    "                flatten(a, name + str(i) + '_')\n",
    "                i += 1\n",
    "        else:\n",
    "            out[name[:-1]] = x\n",
    "\n",
    "    flatten(y)\n",
    "    return out\n",
    "\n",
    "\n",
    "def flatten(l):\n",
    "    \"\"\"\n",
    "    input is list [[ ]]\n",
    "    returns flattened list\n",
    "    \"\"\"\n",
    "    return [item for sublist in l for item in sublist]\n",
    "\n",
    "\n",
    "def to_string(s):\n",
    "    \"\"\"\n",
    "    makes to string and changes encoding\n",
    "    \n",
    "    \"\"\"\n",
    "    try:\n",
    "        return str(s)\n",
    "    except:\n",
    "        #Change the encoding type if needed\n",
    "        return s.encode('utf-8')\n",
    "\n",
    "with open(laptop_example, 'rt') as fh:\n",
    "    counter = 0\n",
    "    for index, line in enumerate(fh):\n",
    "        record = ujson.loads(line)\n",
    "        #pprint.pprint(record)\n",
    "\n",
    "from afinn import Afinn\n",
    "afinn_sentiment_analyzer = Afinn(emoticons=True)\n",
    "vader_sentiment_analyzer = SentimentIntensityAnalyzer(lexicon_file='vader_lexicon.txt', emoji_lexicon='emoji_utf8_lexicon.txt')\n",
    "\n",
    "# def create_sentiment_scores(record_dict):\n",
    "#     for review in record_dict['Reviews']:\n",
    "#         review['Title_Afinn_Score'] = afinn_sentiment_analyzer.score(review['Title'])\n",
    "#         review['Content_Afinn_Score'] = afinn_sentiment_analyzer.score(review['Content'])\n",
    "#         review['Title_Vader_Polarity_Scores'] = list(vader_sentiment_analyzer.polarity_scores(review['Title']).values())\n",
    "#         review['Content_Vader_Polarity_Scores'] = list(vader_sentiment_analyzer.polarity_scores(review['Content']).values())\n",
    "        \n",
    "#     return record_dict\n",
    "\n",
    "# create_sentiment_scores(amazon_personal_health.to_dict('split'))\n",
    "\n",
    "\n",
    "#[n.lower() for n in smart_app[smart_app.choose_the_corresponding_functionalities.isin(['GAME'])].name] #.value_counts()# & smart_app.name.isin('')]"
   ]
  },
  {
   "cell_type": "code",
   "execution_count": 2,
   "metadata": {},
   "outputs": [
    {
     "ename": "ModuleNotFoundError",
     "evalue": "No module named 'pycontractions'",
     "traceback": [
      "\u001b[0;31m---------------------------------------------------------------------------\u001b[0m",
      "\u001b[0;31mModuleNotFoundError\u001b[0m                       Traceback (most recent call last)",
      "\u001b[0;32m<ipython-input-2-f6f9fc578e44>\u001b[0m in \u001b[0;36m<module>\u001b[0;34m()\u001b[0m\n\u001b[1;32m      1\u001b[0m \u001b[0;31m#amazon_wireless.shape\u001b[0m\u001b[0;34m\u001b[0m\u001b[0;34m\u001b[0m\u001b[0m\n\u001b[0;32m----> 2\u001b[0;31m \u001b[0;32mfrom\u001b[0m \u001b[0mpycontractions\u001b[0m \u001b[0;32mimport\u001b[0m \u001b[0mContractions\u001b[0m\u001b[0;34m\u001b[0m\u001b[0m\n\u001b[0m\u001b[1;32m      3\u001b[0m \u001b[0;34m\u001b[0m\u001b[0m\n\u001b[1;32m      4\u001b[0m \u001b[0;31m# amazon_personal_health= pd.read_csv('/Users/isabelmetzger/Desktop/surveydata/amazon_reviews_us_Health_Personal_Care_v1_00.tsv',encoding = 'latin1', sep='\\t', error_bad_lines=False, low_memory=False)\u001b[0m\u001b[0;34m\u001b[0m\u001b[0;34m\u001b[0m\u001b[0m\n\u001b[1;32m      5\u001b[0m \u001b[0;31m# amazon_personal_health.head()\u001b[0m\u001b[0;34m\u001b[0m\u001b[0;34m\u001b[0m\u001b[0m\n",
      "\u001b[0;31mModuleNotFoundError\u001b[0m: No module named 'pycontractions'"
     ],
     "output_type": "error"
    }
   ],
   "source": [
    "#amazon_wireless.shape\n",
    "from pycontractions import Contractions\n",
    "\n",
    "# amazon_personal_health= pd.read_csv('/Users/isabelmetzger/Desktop/surveydata/amazon_reviews_us_Health_Personal_Care_v1_00.tsv',encoding = 'latin1', sep='\\t', error_bad_lines=False, low_memory=False)\n",
    "# amazon_personal_health.head()\n",
    "\n"
   ]
  },
  {
   "cell_type": "code",
   "execution_count": null,
   "metadata": {},
   "outputs": [],
   "source": [
    "#8,991,589, 15)\n",
    "amazon_personal_health['review_body']"
   ]
  },
  {
   "cell_type": "code",
   "execution_count": null,
   "metadata": {},
   "outputs": [],
   "source": [
    "amazon_wireless.product_id.nunique() # 906,086 unique products \n",
    "\n",
    "from afinn import Af\n"
   ]
  },
  {
   "cell_type": "code",
   "execution_count": 1,
   "metadata": {},
   "outputs": [
    {
     "name": "stdout",
     "output_type": "stream",
     "text": [
      "\n",
      "\u001b[93m    Serving on port 5000...\u001b[0m\n",
      "    Using the 'dep' visualizer\n",
      "\n",
      "\n",
      "    Shutting down server on port 5000.\n",
      "\n",
      "TNF tnf NOUN NN compound XXX True False\n",
      "- - PUNCT HYPH punct - False False\n",
      "alpha alpha NOUN NN compound xxxx True False\n",
      "inhibitor inhibitor NOUN NN nsubjpass xxxx True False\n",
      "is be VERB VBZ auxpass xx True True\n",
      "pursued pursue VERB VBN ROOT xxxx True False\n",
      "in in ADP IN prep xx True True\n",
      "the the DET DT det xxx True True\n",
      "treatment treatment NOUN NN pobj xxxx True False\n",
      "of of ADP IN prep xx True True\n",
      "psoriasis psoriasis NOUN NN pobj xxxx True False\n",
      ". . PUNCT . punct . False False\n"
     ]
    }
   ],
   "source": [
    "\n",
    "import spacy\n",
    "from spacy import displacy\n",
    "\n",
    "nlp = spacy.load(\"en_core_web_sm\")\n",
    "doc = nlp(u\"TNF-alpha inhibitor is pursued in the treatment of psoriasis.\")\n",
    "displacy.serve(doc, style=\"dep\")\n",
    "\n",
    "\n",
    "\n",
    "for token in doc:\n",
    "    print(token.text, token.lemma_, token.pos_, token.tag_, token.dep_,\n",
    "            token.shape_, token.is_alpha, token.is_stop)"
   ]
  },
  {
   "cell_type": "code",
   "execution_count": 6,
   "metadata": {},
   "outputs": [
    {
     "ename": "TypeError",
     "evalue": "list() takes at most 1 argument (8 given)",
     "traceback": [
      "\u001b[0;31m---------------------------------------------------------------------------\u001b[0m",
      "\u001b[0;31mTypeError\u001b[0m                                 Traceback (most recent call last)",
      "\u001b[0;32m<ipython-input-6-aee5e59dd8fa>\u001b[0m in \u001b[0;36m<module>\u001b[0;34m()\u001b[0m\n\u001b[1;32m     10\u001b[0m \u001b[0;32mfor\u001b[0m \u001b[0mtoken\u001b[0m \u001b[0;32min\u001b[0m \u001b[0mdoc\u001b[0m\u001b[0;34m:\u001b[0m\u001b[0;34m\u001b[0m\u001b[0m\n\u001b[1;32m     11\u001b[0m     new_line = list(token.text, token.lemma_, token.pos_, token.tag_, token.dep_,\n\u001b[0;32m---> 12\u001b[0;31m             token.shape_, token.is_alpha, token.is_stop)\n\u001b[0m\u001b[1;32m     13\u001b[0m     \u001b[0mprint\u001b[0m\u001b[0;34m(\u001b[0m\u001b[0mnew_line\u001b[0m\u001b[0;34m)\u001b[0m\u001b[0;34m\u001b[0m\u001b[0m\n",
      "\u001b[0;31mTypeError\u001b[0m: list() takes at most 1 argument (8 given)"
     ],
     "output_type": "error"
    }
   ],
   "source": [
    "import spacy\n",
    "\n",
    "\n",
    "nlp = spacy.load(\"en_core_web_sm\")\n",
    "doc = nlp(u\"TNF-alpha inhibitor is pursued in the treatment of psoriasis.\")\n",
    "\n",
    "\n",
    "\n",
    "\n",
    "for token in doc:\n",
    "    new_line = [token.text, token.lemma_, token.pos_, token.tag_, token.dep_,\n",
    "            token.shape_, token.is_alpha, token.is_stop)\n",
    "    print(new_line)"
   ]
  },
  {
   "cell_type": "code",
   "execution_count": null,
   "metadata": {},
   "outputs": [],
   "source": []
  },
  {
   "cell_type": "code",
   "execution_count": null,
   "metadata": {},
   "outputs": [],
   "source": []
  }
 ],
 "metadata": {
  "kernelspec": {
   "display_name": "Python 3",
   "language": "python",
   "name": "python3"
  },
  "language_info": {
   "codemirror_mode": {
    "name": "ipython",
    "version": 3
   },
   "file_extension": ".py",
   "mimetype": "text/x-python",
   "name": "python",
   "nbconvert_exporter": "python",
   "pygments_lexer": "ipython3",
   "version": "3.6.4"
  }
 },
 "nbformat": 4,
 "nbformat_minor": 2
}
