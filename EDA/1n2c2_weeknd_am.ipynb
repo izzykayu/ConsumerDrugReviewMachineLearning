{
 "cells": [
  {
   "cell_type": "markdown",
   "metadata": {},
   "source": [
    "# Classifying multi-label comments with Logistic Regression\n",
    "Izzy\n",
    "Started on March 30\n",
    "\n",
    "-- inspired by:\n",
    "\n",
    "kernel by Jeremy Howard : NB-SVM strong linear baseline + EDA (0.052 lb)\n",
    "kernel by Issac : logistic regression (0.055 lb)\n",
    "Solving Multi-Label Classification problems, https://www.analyticsvidhya.com/blog/2017/08/introduction-to-multi-label-classification/"
   ]
  },
  {
   "cell_type": "code",
   "execution_count": 1,
   "metadata": {},
   "outputs": [
    {
     "name": "stdout",
     "output_type": "stream",
     "text": [
      "Agriculture          11\n",
      "Biology              11\n",
      "Engineering          11\n",
      "Medicine             11\n",
      "Materials Science    11\n",
      "Mathematics          11\n",
      "Computer Science     11\n",
      "Chemistry            11\n",
      "Astronomy            11\n",
      "Earth Science        11\n",
      "Name: 1, dtype: int64\n"
     ]
    }
   ],
   "source": [
    "# importing libraries\n",
    "import numpy as np\n",
    "import pandas as pd\n",
    "from matplotlib import pyplot as plt\n",
    "%matplotlib inline\n",
    "import seaborn as sns\n",
    "import re\n",
    "\n",
    "df = pd.read_csv('/Users/isabelmetzger/PycharmProjects/OA-STM-Corpus/fileCategories.txt','\\t', header=None)\n",
    "df_wanted_files = df[df[1].isin(['Medicine', 'Biology'])]\n",
    "print(df[1].value_counts())\n",
    "file_list = [x + '.txt' for x in df_wanted_files[0]]\n"
   ]
  },
  {
   "cell_type": "code",
   "execution_count": null,
   "metadata": {},
   "outputs": [],
   "source": [
    "mimic_notes = pd.read_csv('/Users/isabelmetzger/PycharmProjects/ConsumerDrugReviewMachineLearning/data/NOTEEVENTS.csv')\n",
    "mimic_notes.head()"
   ]
  },
  {
   "cell_type": "code",
   "execution_count": 51,
   "metadata": {},
   "outputs": [
    {
     "data": {
      "text/html": [
       "<div>\n",
       "<style scoped>\n",
       "    .dataframe tbody tr th:only-of-type {\n",
       "        vertical-align: middle;\n",
       "    }\n",
       "\n",
       "    .dataframe tbody tr th {\n",
       "        vertical-align: top;\n",
       "    }\n",
       "\n",
       "    .dataframe thead th {\n",
       "        text-align: right;\n",
       "    }\n",
       "</style>\n",
       "<table border=\"1\" class=\"dataframe\">\n",
       "  <thead>\n",
       "    <tr style=\"text-align: right;\">\n",
       "      <th></th>\n",
       "      <th>id</th>\n",
       "      <th>text</th>\n",
       "      <th>ABDOMINAL</th>\n",
       "      <th>ADVANCED.CAD</th>\n",
       "      <th>ALCOHOL.ABUSE</th>\n",
       "      <th>ASP.FOR.MI</th>\n",
       "      <th>CREATININE</th>\n",
       "      <th>DIETSUPP.2MOS</th>\n",
       "      <th>DRUG.ABUSE</th>\n",
       "      <th>ENGLISH</th>\n",
       "      <th>HBA1C</th>\n",
       "      <th>KETO.1YR</th>\n",
       "      <th>MAJOR.DIABETES</th>\n",
       "      <th>MAKES.DECISIONS</th>\n",
       "      <th>MI.6MOS</th>\n",
       "    </tr>\n",
       "  </thead>\n",
       "  <tbody>\n",
       "    <tr>\n",
       "      <th>0</th>\n",
       "      <td>1</td>\n",
       "      <td>Record date: 2106-02-12 \\n \\nCampbell Orthoped...</td>\n",
       "      <td>0</td>\n",
       "      <td>1</td>\n",
       "      <td>0</td>\n",
       "      <td>1</td>\n",
       "      <td>0</td>\n",
       "      <td>1</td>\n",
       "      <td>0</td>\n",
       "      <td>1</td>\n",
       "      <td>0</td>\n",
       "      <td>0</td>\n",
       "      <td>1</td>\n",
       "      <td>1</td>\n",
       "      <td>1</td>\n",
       "    </tr>\n",
       "    <tr>\n",
       "      <th>1</th>\n",
       "      <td>2</td>\n",
       "      <td>Record date: 2079-05-12 \\n \\n \\n \\n \\n \\nMERCY...</td>\n",
       "      <td>0</td>\n",
       "      <td>1</td>\n",
       "      <td>0</td>\n",
       "      <td>1</td>\n",
       "      <td>0</td>\n",
       "      <td>0</td>\n",
       "      <td>0</td>\n",
       "      <td>1</td>\n",
       "      <td>0</td>\n",
       "      <td>0</td>\n",
       "      <td>0</td>\n",
       "      <td>1</td>\n",
       "      <td>0</td>\n",
       "    </tr>\n",
       "    <tr>\n",
       "      <th>2</th>\n",
       "      <td>3</td>\n",
       "      <td>Record date: 2120-09-19 \\n \\nPersonal Data and...</td>\n",
       "      <td>1</td>\n",
       "      <td>1</td>\n",
       "      <td>0</td>\n",
       "      <td>1</td>\n",
       "      <td>0</td>\n",
       "      <td>0</td>\n",
       "      <td>0</td>\n",
       "      <td>1</td>\n",
       "      <td>0</td>\n",
       "      <td>0</td>\n",
       "      <td>1</td>\n",
       "      <td>1</td>\n",
       "      <td>0</td>\n",
       "    </tr>\n",
       "    <tr>\n",
       "      <th>3</th>\n",
       "      <td>4</td>\n",
       "      <td>Record date: 2067-11-24 \\n \\n                 ...</td>\n",
       "      <td>0</td>\n",
       "      <td>1</td>\n",
       "      <td>0</td>\n",
       "      <td>1</td>\n",
       "      <td>0</td>\n",
       "      <td>0</td>\n",
       "      <td>0</td>\n",
       "      <td>1</td>\n",
       "      <td>0</td>\n",
       "      <td>0</td>\n",
       "      <td>0</td>\n",
       "      <td>1</td>\n",
       "      <td>0</td>\n",
       "    </tr>\n",
       "    <tr>\n",
       "      <th>4</th>\n",
       "      <td>5</td>\n",
       "      <td>Record date: 2094-02-16 \\n \\nJENNIFER BOOKER \\...</td>\n",
       "      <td>0</td>\n",
       "      <td>1</td>\n",
       "      <td>0</td>\n",
       "      <td>0</td>\n",
       "      <td>0</td>\n",
       "      <td>0</td>\n",
       "      <td>0</td>\n",
       "      <td>1</td>\n",
       "      <td>1</td>\n",
       "      <td>0</td>\n",
       "      <td>1</td>\n",
       "      <td>1</td>\n",
       "      <td>1</td>\n",
       "    </tr>\n",
       "  </tbody>\n",
       "</table>\n",
       "</div>"
      ],
      "text/plain": [
       "   id                                               text  ABDOMINAL  \\\n",
       "0   1  Record date: 2106-02-12 \\n \\nCampbell Orthoped...          0   \n",
       "1   2  Record date: 2079-05-12 \\n \\n \\n \\n \\n \\nMERCY...          0   \n",
       "2   3  Record date: 2120-09-19 \\n \\nPersonal Data and...          1   \n",
       "3   4  Record date: 2067-11-24 \\n \\n                 ...          0   \n",
       "4   5  Record date: 2094-02-16 \\n \\nJENNIFER BOOKER \\...          0   \n",
       "\n",
       "   ADVANCED.CAD  ALCOHOL.ABUSE  ASP.FOR.MI  CREATININE  DIETSUPP.2MOS  \\\n",
       "0             1              0           1           0              1   \n",
       "1             1              0           1           0              0   \n",
       "2             1              0           1           0              0   \n",
       "3             1              0           1           0              0   \n",
       "4             1              0           0           0              0   \n",
       "\n",
       "   DRUG.ABUSE  ENGLISH  HBA1C  KETO.1YR  MAJOR.DIABETES  MAKES.DECISIONS  \\\n",
       "0           0        1      0         0               1                1   \n",
       "1           0        1      0         0               0                1   \n",
       "2           0        1      0         0               1                1   \n",
       "3           0        1      0         0               0                1   \n",
       "4           0        1      1         0               1                1   \n",
       "\n",
       "   MI.6MOS  \n",
       "0        1  \n",
       "1        0  \n",
       "2        0  \n",
       "3        0  \n",
       "4        1  "
      ]
     },
     "execution_count": 51,
     "metadata": {},
     "output_type": "execute_result"
    }
   ],
   "source": [
    "df = pd.read_csv('/Users/isabelmetzger/Documents/2018/n2c2/df_binary_n2c2.csv')\n",
    "#X = df[['uniqueID', 'text_data']]\n",
    "#y = df[['ABDOMINAL',\n",
    "#       'ADVANCED.CAD', 'ALCOHOL.ABUSE', 'ASP.FOR.MI', 'CREATININE',\n",
    "#       'DIETSUPP.2MOS', 'DRUG.ABUSE', 'ENGLISH', 'HBA1C', 'KETO.1YR',\n",
    "#       'MAJOR.DIABETES', 'MAKES.DECISIONS', 'MI.6MOS']]\n",
    "#X.rename(columns={'text_data': 'text','uniqueID': 'id'})\n",
    "# y.head()\n",
    "df.head()"
   ]
  },
  {
   "cell_type": "code",
   "execution_count": 19,
   "metadata": {},
   "outputs": [
    {
     "name": "stdout",
     "output_type": "stream",
     "text": [
      "guideline {'@id': 'https://pharmgkb.org/guideline/PA166105003', '@context': 'https://api.pharmgkb.org/jsonld/guideline.jsonld', 'objCls': 'Guideline', 'id': 'PA166105003', 'name': 'Annotation of CPIC Guideline for allopurinol and HLA-B', 'descriptiveVideoId': 'qbDsCEYbo4k', 'guidelineGenes': [], 'history': [{'id': 1183699762, 'date': '2012-10-17T00:00:00-07:00', 'type': 'create', 'version': 0}, {'id': 1444841843, 'date': '2015-06-11T15:10:54.200-07:00', 'description': 'Published update', 'type': 'update', 'version': 0}, {'id': 1444841850, 'date': '2015-06-12T08:50:16.155-07:00', 'type': 'update', 'version': 0}], 'recommendation': True, 'relatedChemicals': [{'@id': 'https://pharmgkb.org/chemical/PA448320', '@context': 'https://api.pharmgkb.org/jsonld/chemical.jsonld', 'objCls': 'Chemical', 'id': 'PA448320', 'name': 'allopurinol', 'version': 5}], 'relatedGenes': [{'@id': 'https://pharmgkb.org/gene/PA35056', '@context': 'https://api.pharmgkb.org/jsonld/gene.jsonld', 'objCls': 'Gene', 'id': 'PA35056', 'symbol': 'HLA-B', 'name': 'major histocompatibility complex, class I, B', 'version': 39}], 'source': 'CPIC', 'summaryMarkdown': {'id': 1447981950, 'html': '<p>Allopurinol is contraindicated in individuals with the HLA-B*58:01 variant allele (&quot;HLA-B*58:01-positive&quot;) due to significantly increased risk of allopurinol-induced SCAR.</p>\\n', 'version': 0}, 'summaryVideoId': 'V8DGK_BaHHg', 'terms': [{'@id': 'https://pharmgkb.org/ontologyTerm/cpicStatus/cpicStatus:1183847844', '@context': 'https://api.pharmgkb.org/jsonld/ontologyTerm.jsonld', 'id': 1183847844, 'resource': 'CPIC Status', 'term': 'A', 'termId': 'cpicStatus:1183847844'}], 'textMarkdown': {'id': 1447981949, 'html': '<p>This annotation is based on the <a rel=\"noopener noreferrer\" href=\"https://api.pharmgkb.org/v1/site/redirect?p=https%3A%2F%2Fcpicpgx.org%2Fguidelines%2Fguideline-for-allopurinol-and-hla-b%2F\" target=\"_blank\">CPIC&reg; guideline for allopurinol and HLA-B</a>.</p>\\n<h3 id=\"january-2016\">January 2016</h3>\\n<p><em>Accepted article preview online June 2015</em></p>\\n<p>The 2015 update of CPIC guidelines regarding allopurinol has been published in <em>Clinical Pharmacology and Therapeutics</em>.  Recent literature was reviewed and there is <strong>no new evidence that would change the original guidelines. Therefore, the dosing recommendations in the original publication remain clinically current</strong>.</p>\\n<ul>\\n<li>Download and read:\\n<ul>\\n<li><a rel=\"noopener noreferrer\" href=\"https://api.pharmgkb.org/v1/site/redirect?p=https%3A%2F%2Fcpicpgx.org%2Fcontent%2Fguideline%2Fpublication%2Fallopurinol%2F2015%2F26094938.pdf\" target=\"_blank\">Clinical Pharmacogenetics Implementation Consortium (CPIC) Guidelines for Human Leukocyte Antigen-B (HLA-B) Genotype and Allopurinol Dosing: 2015 update </a></li>\\n<li><a rel=\"noopener noreferrer\" href=\"https://api.pharmgkb.org/v1/site/redirect?p=https%3A%2F%2Fcpicpgx.org%2Fcontent%2Fguideline%2Fpublication%2Fallopurinol%2F2015%2F26094938-supplement.pdf\" target=\"_blank\">2015 supplement</a>.</li>\\n</ul>\\n</li>\\n</ul>\\n<h3 id=\"february-2013\">February 2013</h3>\\n<p><em>Advanced online publication December 2012</em></p>\\n<ul>\\n<li>Guidelines regarding the use of pharmacogenomic tests in dosing for allopurinol have been published in Clinical Pharmacology and Therapeutics by the <a rel=\"noopener noreferrer\" href=\"https://api.pharmgkb.org/v1/site/redirect?p=https%3A%2F%2Fcpicpgx.org\" target=\"_blank\">Clinical Pharmacogenetics Implementation Consortium (CPIC)</a>.</li>\\n<li>These guidelines are applicable to:\\n<ul>\\n<li>adults</li>\\n</ul>\\n</li>\\n<li>Excerpt from the 2013 allopurinol dosing guidelines:\\n<ul>\\n<li>&quot;Allopurinol is the most commonly used drug for the treatment of hyperuricemia and gout; however, allopurinol is also one of the most common causes of severe cutaneous adverse reactions (SCAR), which includes drug hypersensitivity syndrome, Stevens-Johnson syndrome (SJS) and toxic epidermal necrolysis (TEN). A variant allele of the human leukocyte antigen-B, HLA-B*5801, associates strongly with allopurinol-induced SCAR. We have summarized evidence from the published literatures and develop peer-reviewed guidelines for allopurinol use based on HLA-B genotype.&quot;</li>\\n</ul>\\n</li>\\n<li>Download and read:\\n<ul>\\n<li><a rel=\"noopener noreferrer\" href=\"https://api.pharmgkb.org/v1/site/redirect?p=https%3A%2F%2Fcpicpgx.org%2Fcontent%2Fguideline%2Fpublication%2Fallopurinol%2F2013%2F23232549.pdf\" target=\"_blank\">Clinical Pharmacogenetics Implementation Consortium (CPIC) Guidelines for Human Leukocyte Antigen-B Genotype and Allopurinol Dosing </a></li>\\n<li><a rel=\"noopener noreferrer\" href=\"https://api.pharmgkb.org/v1/site/redirect?p=https%3A%2F%2Fcpicpgx.org%2Fcontent%2Fguideline%2Fpublication%2Fallopurinol%2F2013%2F23232549-supplement.pdf\" target=\"_blank\">2013 supplement</a>.</li>\\n</ul>\\n</li>\\n</ul>\\n<h3 id=\"table-1-recommended-dosing-of-allopurinol-based-on-hla-b-genotype\">Table 1: Recommended dosing of allopurinol based on <em>HLA-B</em> genotype</h3>\\n<table class=\"table\">\\n<thead>\\n<tr><th>Likely Phenotype</th><th>Genotypes</th><th>Examples of diplotypes</th><th>Implications for phenotypic measures</th><th>Recommendations for allopurinol therapy</th><th>Classification of recommendation for allopurinol therapy</th></tr>\\n</thead>\\n<tbody>\\n<tr><td>Low or reduced risk of allopurinol SCAR</td><td>Absence of <em>*58:01</em> alleles (reported as &quot;negative&quot; on a genotyping test)</td><td>*X/*X <sup>a</sup></td><td>Low or reduced risk of allopurinol SCAR</td><td>Use allopurinol per standard dosing guidelines</td><td>Strong</td></tr>\\n<tr><td>Significantly increased risk of allopurinol SCAR</td><td>Presence of at least one <em>*58:01</em> allele (reported as &quot;positive&quot; on a genotyping test)</td><td><em>*58:01</em>/*X <sup>a</sup> <em>*58:01/*58:01</em></td><td>Significantly increased risk of allopurinol SCAR</td><td>Allopurinol is contraindicated</td><td>Strong</td></tr>\\n</tbody>\\n</table>\\n<p><em>Adapted from Table 2 of the 2013 Guideline Manuscript</em></p>\\n<p><sup>a</sup> *X = any <em>HLA-B</em> genotype other than <em>*58:01</em>.</p>\\n<p><em>HLA-B</em> = human leukocyte antigen B</p>\\n', 'version': 10}, 'version': 30, 'xrefs': [{'@id': 'https://pharmgkb.org/crossReference/url/https://cpicpgx.org/guidelines/guideline-for-allopurinol-and-hla-b/', '@context': 'https://api.pharmgkb.org/jsonld/crossReference.jsonld', 'id': 1447983440, 'name': 'Based on a CPIC dosing guideline', 'resource': 'Web Resource', 'sameAs': 'https://cpicpgx.org/guidelines/guideline-for-allopurinol-and-hla-b/', 'xrefId': 'https://cpicpgx.org/guidelines/guideline-for-allopurinol-and-hla-b/'}]}\n",
      "citations [{'@id': 'https://pharmgkb.org/literature/15090607', '@context': 'https://api.pharmgkb.org/jsonld/literature.jsonld', 'id': 15090607, 'resourceId': '26094938', 'title': 'Clinical Pharmacogenetics Implementation Consortium (CPIC) guidelines for human leukocyte antigen B (HLA-B) genotype and allopurinol dosing: 2015 update', 'authors': ['Saito Y', 'Stamp L K', 'Caudle K E', 'Hershfield M S', 'McDonagh E M', 'Callaghan J T', 'Tassaneeyakul W', 'Mushiroda T', 'Kamatani N', 'Goldspiel B R', 'Phillips E J', 'Klein T E', 'Lee Mtm'], 'hasKeyword': True, 'journal': 'Clinical pharmacology and therapeutics', 'meshDiseases': [], 'meshTerms': [], 'month': 6, 'nonHuman': False, 'pubDate': '2015-06-01T00:00:00-07:00', 'sameAs': 'https://www.ncbi.nlm.nih.gov/pubmed/26094938', 'sentences': [{'text': 'Clinical Pharmacogenetics Implementation Consortium (CPIC) guidelines for human leukocyte antigen B (HLA-B) genotype and allopurinol dosing: 2015 update', 'location': 'title', 'id': 15090608, 'sentenceIndex': 0}, {'text': 'The Clinical Pharmacogenetics Implementation Consortium (CPIC) Guidelines for HLA-B*58:01 Genotype and Allopurinol Dosing was originally published in February 2013.', 'location': 'abstract', 'id': 15090609, 'sentenceIndex': 1}, {'text': 'We reviewed the recent literature and concluded that none of the evidence would change the therapeutic recommendations in the original guideline; therefore, the original publication remains clinically current.', 'location': 'abstract', 'id': 15090610, 'sentenceIndex': 2}, {'text': 'However, we have updated the Supplemental Material and included additional resources for applying CPIC guidelines into the electronic health record.', 'location': 'abstract', 'id': 15090611, 'sentenceIndex': 3}, {'text': 'Up-to-date information can be found at PharmGKB (http://www.pharmgkb.org).', 'location': 'abstract', 'id': 15090612, 'sentenceIndex': 4}], 'summary': 'The Clinical Pharmacogenetics Implementation Consortium (CPIC) Guidelines for HLA-B*58:01 Genotype and Allopurinol Dosing was originally published in February 2013. We reviewed the recent literature and concluded that none of the evidence would change the therapeutic recommendations in the original guideline; therefore, the original publication remains clinically current. However, we have updated the Supplemental Material and included additional resources for applying CPIC guidelines into the electronic health record. Up-to-date information can be found at PharmGKB (http://www.pharmgkb.org).', 'type': 'article', 'version': 1, 'year': 2015}, {'@id': 'https://pharmgkb.org/literature/15033427', '@context': 'https://api.pharmgkb.org/jsonld/literature.jsonld', 'id': 15033427, 'resourceId': '23232549', 'title': 'Clinical Pharmacogenetics Implementation Consortium Guidelines for Human Leukocyte Antigen-B Genotype and Allopurinol Dosing', 'authors': ['Hershfield M S', 'Callaghan J T', 'Tassaneeyakul W', 'Mushiroda T', 'Thorn C F', 'Klein T E', 'Lee M T M'], 'hasKeyword': True, 'journal': 'Clinical pharmacology and therapeutics', 'meshDiseases': [], 'meshTerms': [], 'month': 10, 'nonHuman': False, 'pubDate': '2012-10-01T00:00:00-07:00', 'sameAs': 'https://www.ncbi.nlm.nih.gov/pubmed/23232549', 'sentences': [{'text': 'Clinical Pharmacogenetics Implementation Consortium Guidelines for Human Leukocyte Antigen-B Genotype and Allopurinol Dosing', 'location': 'title', 'id': 15033428, 'sentenceIndex': 0}], 'type': 'article', 'version': 1, 'year': 2012}]\n"
     ]
    }
   ],
   "source": [
    "import glob\n",
    "import os\n",
    "list_json_dosing_guidelines = glob.glob(\"/Users/isabelmetzger/MAE/dosingGuidelines.json/*.json\")\n",
    "import ujson\n",
    "\n",
    "def read_dosing_guidelines(inpath):#, outpath):\n",
    "    with open(inpath) as f:\n",
    "        uj = ujson.load(f)\n",
    "        for k, v in uj.items():\n",
    "            print(k, v)\n",
    "        #print(uj['guideline']['name'])\n",
    "read_dosing_guidelines(list_json_dosing_guidelines[0])"
   ]
  },
  {
   "cell_type": "code",
   "execution_count": 9,
   "metadata": {},
   "outputs": [],
   "source": [
    "example = '/Users/isabelmetzger/MAE/dosingGuidelines.json/Annotation_of_PRO_Guideline_for_irinotecan_and_UGT1A1.json'\n",
    "with open(example) as f:\n",
    "    ujson.load(f)"
   ]
  },
  {
   "cell_type": "code",
   "execution_count": 54,
   "metadata": {},
   "outputs": [
    {
     "data": {
      "text/html": [
       "<div>\n",
       "<style scoped>\n",
       "    .dataframe tbody tr th:only-of-type {\n",
       "        vertical-align: middle;\n",
       "    }\n",
       "\n",
       "    .dataframe tbody tr th {\n",
       "        vertical-align: top;\n",
       "    }\n",
       "\n",
       "    .dataframe thead th {\n",
       "        text-align: right;\n",
       "    }\n",
       "</style>\n",
       "<table border=\"1\" class=\"dataframe\">\n",
       "  <thead>\n",
       "    <tr style=\"text-align: right;\">\n",
       "      <th></th>\n",
       "      <th>id</th>\n",
       "      <th>ABDOMINAL</th>\n",
       "      <th>ADVANCED.CAD</th>\n",
       "      <th>ALCOHOL.ABUSE</th>\n",
       "      <th>ASP.FOR.MI</th>\n",
       "      <th>CREATININE</th>\n",
       "      <th>DIETSUPP.2MOS</th>\n",
       "      <th>DRUG.ABUSE</th>\n",
       "      <th>ENGLISH</th>\n",
       "      <th>HBA1C</th>\n",
       "      <th>KETO.1YR</th>\n",
       "      <th>MAJOR.DIABETES</th>\n",
       "      <th>MAKES.DECISIONS</th>\n",
       "      <th>MI.6MOS</th>\n",
       "    </tr>\n",
       "  </thead>\n",
       "  <tbody>\n",
       "    <tr>\n",
       "      <th>count</th>\n",
       "      <td>138.000000</td>\n",
       "      <td>138.000000</td>\n",
       "      <td>138.000000</td>\n",
       "      <td>138.000000</td>\n",
       "      <td>138.000000</td>\n",
       "      <td>138.000000</td>\n",
       "      <td>138.000000</td>\n",
       "      <td>138.000000</td>\n",
       "      <td>138.000000</td>\n",
       "      <td>138.000000</td>\n",
       "      <td>138.000000</td>\n",
       "      <td>138.000000</td>\n",
       "      <td>138.000000</td>\n",
       "      <td>138.000000</td>\n",
       "    </tr>\n",
       "    <tr>\n",
       "      <th>mean</th>\n",
       "      <td>94.333333</td>\n",
       "      <td>0.376812</td>\n",
       "      <td>0.673913</td>\n",
       "      <td>0.036232</td>\n",
       "      <td>0.789855</td>\n",
       "      <td>0.391304</td>\n",
       "      <td>0.536232</td>\n",
       "      <td>0.065217</td>\n",
       "      <td>0.963768</td>\n",
       "      <td>0.333333</td>\n",
       "      <td>0.007246</td>\n",
       "      <td>0.543478</td>\n",
       "      <td>0.956522</td>\n",
       "      <td>0.108696</td>\n",
       "    </tr>\n",
       "    <tr>\n",
       "      <th>std</th>\n",
       "      <td>58.955177</td>\n",
       "      <td>0.486352</td>\n",
       "      <td>0.470487</td>\n",
       "      <td>0.187547</td>\n",
       "      <td>0.408896</td>\n",
       "      <td>0.489820</td>\n",
       "      <td>0.500502</td>\n",
       "      <td>0.247809</td>\n",
       "      <td>0.187547</td>\n",
       "      <td>0.473122</td>\n",
       "      <td>0.085126</td>\n",
       "      <td>0.499921</td>\n",
       "      <td>0.204674</td>\n",
       "      <td>0.312391</td>\n",
       "    </tr>\n",
       "    <tr>\n",
       "      <th>min</th>\n",
       "      <td>2.000000</td>\n",
       "      <td>0.000000</td>\n",
       "      <td>0.000000</td>\n",
       "      <td>0.000000</td>\n",
       "      <td>0.000000</td>\n",
       "      <td>0.000000</td>\n",
       "      <td>0.000000</td>\n",
       "      <td>0.000000</td>\n",
       "      <td>0.000000</td>\n",
       "      <td>0.000000</td>\n",
       "      <td>0.000000</td>\n",
       "      <td>0.000000</td>\n",
       "      <td>0.000000</td>\n",
       "      <td>0.000000</td>\n",
       "    </tr>\n",
       "    <tr>\n",
       "      <th>25%</th>\n",
       "      <td>44.250000</td>\n",
       "      <td>0.000000</td>\n",
       "      <td>0.000000</td>\n",
       "      <td>0.000000</td>\n",
       "      <td>1.000000</td>\n",
       "      <td>0.000000</td>\n",
       "      <td>0.000000</td>\n",
       "      <td>0.000000</td>\n",
       "      <td>1.000000</td>\n",
       "      <td>0.000000</td>\n",
       "      <td>0.000000</td>\n",
       "      <td>0.000000</td>\n",
       "      <td>1.000000</td>\n",
       "      <td>0.000000</td>\n",
       "    </tr>\n",
       "    <tr>\n",
       "      <th>50%</th>\n",
       "      <td>83.500000</td>\n",
       "      <td>0.000000</td>\n",
       "      <td>1.000000</td>\n",
       "      <td>0.000000</td>\n",
       "      <td>1.000000</td>\n",
       "      <td>0.000000</td>\n",
       "      <td>1.000000</td>\n",
       "      <td>0.000000</td>\n",
       "      <td>1.000000</td>\n",
       "      <td>0.000000</td>\n",
       "      <td>0.000000</td>\n",
       "      <td>1.000000</td>\n",
       "      <td>1.000000</td>\n",
       "      <td>0.000000</td>\n",
       "    </tr>\n",
       "    <tr>\n",
       "      <th>75%</th>\n",
       "      <td>141.750000</td>\n",
       "      <td>1.000000</td>\n",
       "      <td>1.000000</td>\n",
       "      <td>0.000000</td>\n",
       "      <td>1.000000</td>\n",
       "      <td>1.000000</td>\n",
       "      <td>1.000000</td>\n",
       "      <td>0.000000</td>\n",
       "      <td>1.000000</td>\n",
       "      <td>1.000000</td>\n",
       "      <td>0.000000</td>\n",
       "      <td>1.000000</td>\n",
       "      <td>1.000000</td>\n",
       "      <td>0.000000</td>\n",
       "    </tr>\n",
       "    <tr>\n",
       "      <th>max</th>\n",
       "      <td>202.000000</td>\n",
       "      <td>1.000000</td>\n",
       "      <td>1.000000</td>\n",
       "      <td>1.000000</td>\n",
       "      <td>1.000000</td>\n",
       "      <td>1.000000</td>\n",
       "      <td>1.000000</td>\n",
       "      <td>1.000000</td>\n",
       "      <td>1.000000</td>\n",
       "      <td>1.000000</td>\n",
       "      <td>1.000000</td>\n",
       "      <td>1.000000</td>\n",
       "      <td>1.000000</td>\n",
       "      <td>1.000000</td>\n",
       "    </tr>\n",
       "  </tbody>\n",
       "</table>\n",
       "</div>"
      ],
      "text/plain": [
       "               id   ABDOMINAL  ADVANCED.CAD  ALCOHOL.ABUSE  ASP.FOR.MI  \\\n",
       "count  138.000000  138.000000    138.000000     138.000000  138.000000   \n",
       "mean    94.333333    0.376812      0.673913       0.036232    0.789855   \n",
       "std     58.955177    0.486352      0.470487       0.187547    0.408896   \n",
       "min      2.000000    0.000000      0.000000       0.000000    0.000000   \n",
       "25%     44.250000    0.000000      0.000000       0.000000    1.000000   \n",
       "50%     83.500000    0.000000      1.000000       0.000000    1.000000   \n",
       "75%    141.750000    1.000000      1.000000       0.000000    1.000000   \n",
       "max    202.000000    1.000000      1.000000       1.000000    1.000000   \n",
       "\n",
       "       CREATININE  DIETSUPP.2MOS  DRUG.ABUSE     ENGLISH       HBA1C  \\\n",
       "count  138.000000     138.000000  138.000000  138.000000  138.000000   \n",
       "mean     0.391304       0.536232    0.065217    0.963768    0.333333   \n",
       "std      0.489820       0.500502    0.247809    0.187547    0.473122   \n",
       "min      0.000000       0.000000    0.000000    0.000000    0.000000   \n",
       "25%      0.000000       0.000000    0.000000    1.000000    0.000000   \n",
       "50%      0.000000       1.000000    0.000000    1.000000    0.000000   \n",
       "75%      1.000000       1.000000    0.000000    1.000000    1.000000   \n",
       "max      1.000000       1.000000    1.000000    1.000000    1.000000   \n",
       "\n",
       "         KETO.1YR  MAJOR.DIABETES  MAKES.DECISIONS     MI.6MOS  \n",
       "count  138.000000      138.000000       138.000000  138.000000  \n",
       "mean     0.007246        0.543478         0.956522    0.108696  \n",
       "std      0.085126        0.499921         0.204674    0.312391  \n",
       "min      0.000000        0.000000         0.000000    0.000000  \n",
       "25%      0.000000        0.000000         1.000000    0.000000  \n",
       "50%      0.000000        1.000000         1.000000    0.000000  \n",
       "75%      0.000000        1.000000         1.000000    0.000000  \n",
       "max      1.000000        1.000000         1.000000    1.000000  "
      ]
     },
     "execution_count": 54,
     "metadata": {},
     "output_type": "execute_result"
    }
   ],
   "source": [
    "train_df.describe()"
   ]
  },
  {
   "cell_type": "code",
   "execution_count": 30,
   "metadata": {},
   "outputs": [
    {
     "name": "stdout",
     "output_type": "stream",
     "text": [
      "Total rows in test is 70\n",
      "Total rows in train is 132\n",
      "ABDOMINAL           55\n",
      "ADVANCED.CAD        81\n",
      "ALCOHOL.ABUSE        4\n",
      "ASP.FOR.MI         104\n",
      "CREATININE          53\n",
      "DIETSUPP.2MOS       66\n",
      "DRUG.ABUSE          10\n",
      "ENGLISH            127\n",
      "HBA1C               43\n",
      "KETO.1YR             1\n",
      "MAJOR.DIABETES      74\n",
      "MAKES.DECISIONS    129\n",
      "MI.6MOS             11\n",
      "dtype: int64\n"
     ]
    }
   ],
   "source": [
    "cols_target =['ABDOMINAL',\n",
    "       'ADVANCED.CAD', 'ALCOHOL.ABUSE', 'ASP.FOR.MI', 'CREATININE',\n",
    "       'DIETSUPP.2MOS', 'DRUG.ABUSE', 'ENGLISH', 'HBA1C', 'KETO.1YR',\n",
    "       'MAJOR.DIABETES', 'MAKES.DECISIONS', 'MI.6MOS']\n",
    "print('Total rows in test is {}'.format(len(test_df)))\n",
    "print('Total rows in train is {}'.format(len(train_df)))\n",
    "print(train_df[cols_target].sum())"
   ]
  },
  {
   "cell_type": "code",
   "execution_count": 55,
   "metadata": {},
   "outputs": [
    {
     "data": {
      "text/plain": [
       "0"
      ]
     },
     "execution_count": 55,
     "metadata": {},
     "output_type": "execute_result"
    }
   ],
   "source": [
    "no_comment = train_df[train_df['text'].isnull()]\n",
    "len(no_comment)  # no missings"
   ]
  },
  {
   "cell_type": "code",
   "execution_count": 56,
   "metadata": {},
   "outputs": [
    {
     "name": "stderr",
     "output_type": "stream",
     "text": [
      "/Users/isabelmetzger/anaconda3/lib/python3.6/site-packages/ipykernel_launcher.py:1: SettingWithCopyWarning: \n",
      "A value is trying to be set on a copy of a slice from a DataFrame.\n",
      "Try using .loc[row_indexer,col_indexer] = value instead\n",
      "\n",
      "See the caveats in the documentation: http://pandas.pydata.org/pandas-docs/stable/indexing.html#indexing-view-versus-copy\n",
      "  \"\"\"Entry point for launching an IPython kernel.\n"
     ]
    },
    {
     "data": {
      "image/png": "[encoded data removed]",
      "text/plain": [
       "<matplotlib.figure.Figure at 0x10e635a20>"
      ]
     },
     "metadata": {},
     "output_type": "display_data"
    }
   ],
   "source": [
    "train_df['char_length'] = train_df['text'].apply(lambda x: len(str(x)))\n",
    "# look at the histogram plot for text length\n",
    "sns.set()\n",
    "train_df['char_length'].hist()\n",
    "plt.show()"
   ]
  },
  {
   "cell_type": "code",
   "execution_count": 57,
   "metadata": {},
   "outputs": [],
   "source": [
    "data = train_df[cols_target]"
   ]
  },
  {
   "cell_type": "code",
   "execution_count": 58,
   "metadata": {},
   "outputs": [
    {
     "data": {
      "text/plain": [
       "<matplotlib.axes._subplots.AxesSubplot at 0x10e662e80>"
      ]
     },
     "execution_count": 58,
     "metadata": {},
     "output_type": "execute_result"
    },
    {
     "data": {
      "image/png": "[encoded data removed]",
      "text/plain": [
       "<matplotlib.figure.Figure at 0x10eab4080>"
      ]
     },
     "metadata": {},
     "output_type": "display_data"
    }
   ],
   "source": [
    "colormap = plt.cm.plasma\n",
    "plt.figure(figsize=(7,7))\n",
    "plt.title('Correlation of features & targets',y=1.05,size=14)\n",
    "sns.heatmap(data.astype(float).corr(),linewidths=0.1,vmax=1.0,square=True,cmap=colormap,\n",
    "           linecolor='white',annot=True)"
   ]
  },
  {
   "cell_type": "code",
   "execution_count": 59,
   "metadata": {},
   "outputs": [
    {
     "name": "stderr",
     "output_type": "stream",
     "text": [
      "/Users/isabelmetzger/anaconda3/lib/python3.6/site-packages/ipykernel_launcher.py:1: SettingWithCopyWarning: \n",
      "A value is trying to be set on a copy of a slice from a DataFrame.\n",
      "Try using .loc[row_indexer,col_indexer] = value instead\n",
      "\n",
      "See the caveats in the documentation: http://pandas.pydata.org/pandas-docs/stable/indexing.html#indexing-view-versus-copy\n",
      "  \"\"\"Entry point for launching an IPython kernel.\n"
     ]
    },
    {
     "data": {
      "image/png": "[encoded data removed]",
      "text/plain": [
       "<matplotlib.figure.Figure at 0x10e500da0>"
      ]
     },
     "metadata": {},
     "output_type": "display_data"
    }
   ],
   "source": [
    "test_df['char_length'] = test_df['text'].apply(lambda x: len(str(x)))\n",
    "plt.figure()\n",
    "plt.hist(test_df['char_length'])\n",
    "plt.show()"
   ]
  },
  {
   "cell_type": "code",
   "execution_count": 38,
   "metadata": {},
   "outputs": [],
   "source": [
    "def clean_text(text):\n",
    "    text = text.lower()\n",
    "    text = re.sub(r\"\\'s\", \" \", text)\n",
    "    text = re.sub(r\"can't\", \"cannot \", text)\n",
    "    text = re.sub(r\"n't\", \" not \", text)\n",
    "    text = re.sub('\\W', ' ', text)\n",
    "    text = re.sub('\\s+', ' ', text)\n",
    "    text = text.strip(' ')\n",
    "    return text"
   ]
  },
  {
   "cell_type": "code",
   "execution_count": 60,
   "metadata": {},
   "outputs": [
    {
     "name": "stdout",
     "output_type": "stream",
     "text": [
      "(138,) (64,)\n"
     ]
    }
   ],
   "source": [
    "X = train_df.text\n",
    "test_X = test_df.text\n",
    "print(X.shape, test_X.shape)"
   ]
  },
  {
   "cell_type": "code",
   "execution_count": 61,
   "metadata": {},
   "outputs": [
    {
     "data": {
      "text/plain": [
       "TfidfVectorizer(analyzer='word', binary=False, decode_error='strict',\n",
       "        dtype=<class 'numpy.int64'>, encoding='utf-8', input='content',\n",
       "        lowercase=True, max_df=1.0, max_features=5000, min_df=1,\n",
       "        ngram_range=(1, 1), norm='l2', preprocessor=None, smooth_idf=True,\n",
       "        stop_words='english', strip_accents=None, sublinear_tf=False,\n",
       "        token_pattern='(?u)\\\\b\\\\w\\\\w+\\\\b', tokenizer=None, use_idf=True,\n",
       "        vocabulary=None)"
      ]
     },
     "execution_count": 61,
     "metadata": {},
     "output_type": "execute_result"
    }
   ],
   "source": [
    "# import and instantiate TfidfVectorizer\n",
    "from sklearn.feature_extraction.text import CountVectorizer\n",
    "from sklearn.feature_extraction.text import TfidfVectorizer\n",
    "vect = TfidfVectorizer(max_features=5000,stop_words='english')\n",
    "vect"
   ]
  },
  {
   "cell_type": "code",
   "execution_count": 62,
   "metadata": {},
   "outputs": [
    {
     "data": {
      "text/plain": [
       "<138x5000 sparse matrix of type '<class 'numpy.float64'>'\n",
       "\twith 101671 stored elements in Compressed Sparse Row format>"
      ]
     },
     "execution_count": 62,
     "metadata": {},
     "output_type": "execute_result"
    }
   ],
   "source": [
    "# learn the vocabulary in the training data, then use it to create a document-term matrix\n",
    "X_dtm = vect.fit_transform(X)\n",
    "# examine the document-term matrix created from X_train\n",
    "X_dtm"
   ]
  },
  {
   "cell_type": "code",
   "execution_count": 63,
   "metadata": {},
   "outputs": [
    {
     "data": {
      "text/plain": [
       "<64x5000 sparse matrix of type '<class 'numpy.float64'>'\n",
       "\twith 47338 stored elements in Compressed Sparse Row format>"
      ]
     },
     "execution_count": 63,
     "metadata": {},
     "output_type": "execute_result"
    }
   ],
   "source": [
    "# transform the test data using the earlier fitted vocabulary, into a document-term matrix\n",
    "test_X_dtm = vect.transform(test_X)\n",
    "# examine the document-term matrix from X_test\n",
    "test_X_dtm"
   ]
  },
  {
   "cell_type": "markdown",
   "metadata": {},
   "source": [
    "# Solving a multi-label classification problem\n",
    "One way to approach a multi-label classification problem is to transform the problem into separate single-class classifier problems. This is known as 'problem transformation'. There are three methods:\n",
    "\n",
    "Binary Relevance. This is probably the simplest which treats each label as a separate single classification problems. The key assumption here though, is that there are no correlation among the various labels.\n",
    "\n",
    "\n",
    "Classifier Chains. In this method, the first classifier is trained on the input X. Then the subsequent classifiers are trained on the input X and all previous classifiers' predictions in the chain. This method attempts to draw the signals from the correlation among preceding target variables.\n",
    "\n",
    "\n",
    "Label Powerset. This method transforms the problem into a multi-class problem where the multi-class labels are essentially all the unique label combinations. In our case here, where there are six labels, Label Powerset would in effect turn this into a 2^6 or 64-class problem. {Thanks Joshua for pointing out.}\n"
   ]
  },
  {
   "cell_type": "markdown",
   "metadata": {},
   "source": [
    "# tfidf"
   ]
  },
  {
   "cell_type": "code",
   "execution_count": 64,
   "metadata": {},
   "outputs": [],
   "source": [
    "X_train_tfidf, X_test_tfidf, y_train_tfidf, y_test_tfidf = train_test_split(X_dtm, train_df.text, train_size=0.75)"
   ]
  },
  {
   "cell_type": "code",
   "execution_count": 69,
   "metadata": {},
   "outputs": [
    {
     "name": "stdout",
     "output_type": "stream",
     "text": [
      "Processing ABDOMINAL\n",
      "Training accuracy is 0.6594202898550725\n",
      "Training f1 macro is 0.4804133621725547\n",
      "Training f1 micro is 0.6594202898550725\n",
      "Training f1 weighted is 0.5555520725578091\n",
      "Processing ADVANCED.CAD\n",
      "Training accuracy is 0.6739130434782609\n",
      "Training f1 macro is 0.4025974025974026\n",
      "Training f1 micro is 0.6739130434782609\n",
      "Training f1 weighted is 0.5426312817617166\n",
      "Processing ALCOHOL.ABUSE\n",
      "Training accuracy is 0.9637681159420289\n",
      "Training f1 macro is 0.4907749077490775\n",
      "Training f1 micro is 0.9637681159420289\n",
      "Training f1 weighted is 0.945986416385903\n",
      "Processing ASP.FOR.MI\n",
      "Training accuracy is 0.7898550724637681\n",
      "Training f1 macro is 0.44129554655870445\n",
      "Training f1 micro is 0.7898550724637681\n",
      "Training f1 weighted is 0.6971190518101273\n",
      "Processing CREATININE\n",
      "Training accuracy is 0.644927536231884\n",
      "Training f1 macro is 0.4718425369054128\n",
      "Training f1 micro is 0.644927536231884\n",
      "Training f1 weighted is 0.5375710176623006\n",
      "Processing DIETSUPP.2MOS\n",
      "Training accuracy is 0.8840579710144928\n",
      "Training f1 macro is 0.8804418453541261\n",
      "Training f1 micro is 0.8840579710144928\n",
      "Training f1 weighted is 0.8819485643792789\n",
      "Processing DRUG.ABUSE\n",
      "Training accuracy is 0.9347826086956522\n",
      "Training f1 macro is 0.4831460674157303\n",
      "Training f1 micro is 0.9347826086956522\n",
      "Training f1 weighted is 0.9032730825598436\n",
      "Processing ENGLISH\n",
      "Training accuracy is 0.9637681159420289\n",
      "Training f1 macro is 0.4907749077490775\n",
      "Training f1 micro is 0.9637681159420289\n",
      "Training f1 weighted is 0.945986416385903\n",
      "Processing HBA1C\n",
      "Training accuracy is 0.6666666666666666\n",
      "Training f1 macro is 0.4\n",
      "Training f1 micro is 0.6666666666666666\n",
      "Training f1 weighted is 0.5333333333333334\n",
      "Processing KETO.1YR\n",
      "Training accuracy is 0.9927536231884058\n",
      "Training f1 macro is 0.49818181818181817\n",
      "Training f1 micro is 0.9927536231884058\n",
      "Training f1 weighted is 0.9891436100131752\n",
      "Processing MAJOR.DIABETES\n",
      "Training accuracy is 0.8260869565217391\n",
      "Training f1 macro is 0.8133874239350913\n",
      "Training f1 micro is 0.8260869565217391\n",
      "Training f1 weighted is 0.8176206014639739\n",
      "Processing MAKES.DECISIONS\n",
      "Training accuracy is 0.9565217391304348\n",
      "Training f1 macro is 0.4888888888888889\n",
      "Training f1 micro is 0.9565217391304348\n",
      "Training f1 weighted is 0.9352657004830918\n",
      "Processing MI.6MOS\n",
      "Training accuracy is 0.8913043478260869\n",
      "Training f1 macro is 0.47126436781609193\n",
      "Training f1 micro is 0.8913043478260869\n",
      "Training f1 weighted is 0.84007996001999\n"
     ]
    },
    {
     "name": "stderr",
     "output_type": "stream",
     "text": [
      "/Users/isabelmetzger/anaconda3/lib/python3.6/site-packages/sklearn/metrics/classification.py:1135: UndefinedMetricWarning: F-score is ill-defined and being set to 0.0 in labels with no predicted samples.\n",
      "  'precision', 'predicted', average, warn_for)\n"
     ]
    }
   ],
   "source": [
    "from sklearn.naive_bayes import MultinomialNB\n",
    "from sklearn import metrics\n",
    "from sklearn.metrics import f1_score\n",
    "\n",
    "model_tfidf_NB = MultinomialNB()\n",
    "for label in cols_target:\n",
    "    print('Processing {}'.format(label))\n",
    "    y = train_df[label]\n",
    "    model_tfidf_NB.fit(X_dtm, y)\n",
    "    y_pred_X = model_tfidf_NB.predict(X_dtm)\n",
    "    print('Training accuracy is {}'.format(accuracy_score(y, y_pred_X)))\n",
    "    print('Training f1 macro is {}'.format(f1_score(y, y_pred_X, average='macro')))  \n",
    "    print('Training f1 micro is {}'.format(f1_score(y, y_pred_X, average='micro')))  \n",
    "    print('Training f1 weighted is {}'.format(f1_score(y, y_pred_X, average='weighted')))  \n",
    "    test_y_prob = model_tfidf_NB.predict_proba(test_X_dtm)[:,1]"
   ]
  },
  {
   "cell_type": "code",
   "execution_count": 74,
   "metadata": {},
   "outputs": [
    {
     "data": {
      "text/plain": [
       "<103x5000 sparse matrix of type '<class 'numpy.float64'>'\n",
       "\twith 75915 stored elements in Compressed Sparse Row format>"
      ]
     },
     "execution_count": 74,
     "metadata": {},
     "output_type": "execute_result"
    }
   ],
   "source": [
    "cols_target\n",
    "X_train_tfidf"
   ]
  },
  {
   "cell_type": "code",
   "execution_count": 78,
   "metadata": {},
   "outputs": [
    {
     "ename": "TypeError",
     "evalue": "no supported conversion for types: (dtype('O'),)",
     "output_type": "error",
     "traceback": [
      "\u001b[0;31m---------------------------------------------------------------------------\u001b[0m",
      "\u001b[0;31mTypeError\u001b[0m                                 Traceback (most recent call last)",
      "\u001b[0;32m<ipython-input-78-faacfcee0d5d>\u001b[0m in \u001b[0;36m<module>\u001b[0;34m()\u001b[0m\n\u001b[1;32m     19\u001b[0m \u001b[0;34m\u001b[0m\u001b[0m\n\u001b[1;32m     20\u001b[0m \u001b[0;31m# train\u001b[0m\u001b[0;34m\u001b[0m\u001b[0;34m\u001b[0m\u001b[0m\n\u001b[0;32m---> 21\u001b[0;31m \u001b[0mclassifier\u001b[0m\u001b[0;34m.\u001b[0m\u001b[0mfit\u001b[0m\u001b[0;34m(\u001b[0m\u001b[0mX_train_tfidf\u001b[0m\u001b[0;34m,\u001b[0m \u001b[0my_train_tfidf\u001b[0m\u001b[0;34m)\u001b[0m\u001b[0;34m\u001b[0m\u001b[0m\n\u001b[0m\u001b[1;32m     22\u001b[0m \u001b[0;34m\u001b[0m\u001b[0m\n\u001b[1;32m     23\u001b[0m \u001b[0;31m# predict\u001b[0m\u001b[0;34m\u001b[0m\u001b[0;34m\u001b[0m\u001b[0m\n",
      "\u001b[0;32m~/anaconda3/lib/python3.6/site-packages/skmultilearn/problem_transform/br.py\u001b[0m in \u001b[0;36mfit\u001b[0;34m(self, X, y)\u001b[0m\n\u001b[1;32m     60\u001b[0m             X, sparse_format='csr', enforce_sparse=True)\n\u001b[1;32m     61\u001b[0m         y = self.ensure_output_format(\n\u001b[0;32m---> 62\u001b[0;31m             y, sparse_format='csc', enforce_sparse=True)\n\u001b[0m\u001b[1;32m     63\u001b[0m \u001b[0;34m\u001b[0m\u001b[0m\n\u001b[1;32m     64\u001b[0m         \u001b[0mself\u001b[0m\u001b[0;34m.\u001b[0m\u001b[0mgenerate_partition\u001b[0m\u001b[0;34m(\u001b[0m\u001b[0mX\u001b[0m\u001b[0;34m,\u001b[0m \u001b[0my\u001b[0m\u001b[0;34m)\u001b[0m\u001b[0;34m\u001b[0m\u001b[0m\n",
      "\u001b[0;32m~/anaconda3/lib/python3.6/site-packages/skmultilearn/base/base.py\u001b[0m in \u001b[0;36mensure_output_format\u001b[0;34m(self, matrix, sparse_format, enforce_sparse)\u001b[0m\n\u001b[1;32m    144\u001b[0m                     \u001b[0;32mreturn\u001b[0m \u001b[0mmatrix\u001b[0m\u001b[0;34m\u001b[0m\u001b[0m\n\u001b[1;32m    145\u001b[0m             \u001b[0;32melse\u001b[0m\u001b[0;34m:\u001b[0m\u001b[0;34m\u001b[0m\u001b[0m\n\u001b[0;32m--> 146\u001b[0;31m                 \u001b[0;32mreturn\u001b[0m \u001b[0mmatrix_creation_function_for_format\u001b[0m\u001b[0;34m(\u001b[0m\u001b[0msparse_format\u001b[0m\u001b[0;34m)\u001b[0m\u001b[0;34m(\u001b[0m\u001b[0mmatrix\u001b[0m\u001b[0;34m)\u001b[0m\u001b[0;34m\u001b[0m\u001b[0m\n\u001b[0m\u001b[1;32m    147\u001b[0m \u001b[0;34m\u001b[0m\u001b[0m\n\u001b[1;32m    148\u001b[0m     \u001b[0;32mdef\u001b[0m \u001b[0mfit\u001b[0m\u001b[0;34m(\u001b[0m\u001b[0mself\u001b[0m\u001b[0;34m,\u001b[0m \u001b[0mX\u001b[0m\u001b[0;34m,\u001b[0m \u001b[0my\u001b[0m\u001b[0;34m)\u001b[0m\u001b[0;34m:\u001b[0m\u001b[0;34m\u001b[0m\u001b[0m\n",
      "\u001b[0;32m~/anaconda3/lib/python3.6/site-packages/scipy/sparse/compressed.py\u001b[0m in \u001b[0;36m__init__\u001b[0;34m(self, arg1, shape, dtype, copy)\u001b[0m\n\u001b[1;32m     77\u001b[0m                         self.format)\n\u001b[1;32m     78\u001b[0m             \u001b[0;32mfrom\u001b[0m \u001b[0;34m.\u001b[0m\u001b[0mcoo\u001b[0m \u001b[0;32mimport\u001b[0m \u001b[0mcoo_matrix\u001b[0m\u001b[0;34m\u001b[0m\u001b[0m\n\u001b[0;32m---> 79\u001b[0;31m             \u001b[0mself\u001b[0m\u001b[0;34m.\u001b[0m\u001b[0m_set_self\u001b[0m\u001b[0;34m(\u001b[0m\u001b[0mself\u001b[0m\u001b[0;34m.\u001b[0m\u001b[0m__class__\u001b[0m\u001b[0;34m(\u001b[0m\u001b[0mcoo_matrix\u001b[0m\u001b[0;34m(\u001b[0m\u001b[0marg1\u001b[0m\u001b[0;34m,\u001b[0m \u001b[0mdtype\u001b[0m\u001b[0;34m=\u001b[0m\u001b[0mdtype\u001b[0m\u001b[0;34m)\u001b[0m\u001b[0;34m)\u001b[0m\u001b[0;34m)\u001b[0m\u001b[0;34m\u001b[0m\u001b[0m\n\u001b[0m\u001b[1;32m     80\u001b[0m \u001b[0;34m\u001b[0m\u001b[0m\n\u001b[1;32m     81\u001b[0m         \u001b[0;31m# Read matrix dimensions given, if any\u001b[0m\u001b[0;34m\u001b[0m\u001b[0;34m\u001b[0m\u001b[0m\n",
      "\u001b[0;32m~/anaconda3/lib/python3.6/site-packages/scipy/sparse/compressed.py\u001b[0m in \u001b[0;36m__init__\u001b[0;34m(self, arg1, shape, dtype, copy)\u001b[0m\n\u001b[1;32m     30\u001b[0m                 \u001b[0marg1\u001b[0m \u001b[0;34m=\u001b[0m \u001b[0marg1\u001b[0m\u001b[0;34m.\u001b[0m\u001b[0mcopy\u001b[0m\u001b[0;34m(\u001b[0m\u001b[0;34m)\u001b[0m\u001b[0;34m\u001b[0m\u001b[0m\n\u001b[1;32m     31\u001b[0m             \u001b[0;32melse\u001b[0m\u001b[0;34m:\u001b[0m\u001b[0;34m\u001b[0m\u001b[0m\n\u001b[0;32m---> 32\u001b[0;31m                 \u001b[0marg1\u001b[0m \u001b[0;34m=\u001b[0m \u001b[0marg1\u001b[0m\u001b[0;34m.\u001b[0m\u001b[0masformat\u001b[0m\u001b[0;34m(\u001b[0m\u001b[0mself\u001b[0m\u001b[0;34m.\u001b[0m\u001b[0mformat\u001b[0m\u001b[0;34m)\u001b[0m\u001b[0;34m\u001b[0m\u001b[0m\n\u001b[0m\u001b[1;32m     33\u001b[0m             \u001b[0mself\u001b[0m\u001b[0;34m.\u001b[0m\u001b[0m_set_self\u001b[0m\u001b[0;34m(\u001b[0m\u001b[0marg1\u001b[0m\u001b[0;34m)\u001b[0m\u001b[0;34m\u001b[0m\u001b[0m\n\u001b[1;32m     34\u001b[0m \u001b[0;34m\u001b[0m\u001b[0m\n",
      "\u001b[0;32m~/anaconda3/lib/python3.6/site-packages/scipy/sparse/base.py\u001b[0m in \u001b[0;36masformat\u001b[0;34m(self, format)\u001b[0m\n\u001b[1;32m    285\u001b[0m             \u001b[0;32mreturn\u001b[0m \u001b[0mself\u001b[0m\u001b[0;34m\u001b[0m\u001b[0m\n\u001b[1;32m    286\u001b[0m         \u001b[0;32melse\u001b[0m\u001b[0;34m:\u001b[0m\u001b[0;34m\u001b[0m\u001b[0m\n\u001b[0;32m--> 287\u001b[0;31m             \u001b[0;32mreturn\u001b[0m \u001b[0mgetattr\u001b[0m\u001b[0;34m(\u001b[0m\u001b[0mself\u001b[0m\u001b[0;34m,\u001b[0m \u001b[0;34m'to'\u001b[0m \u001b[0;34m+\u001b[0m \u001b[0mformat\u001b[0m\u001b[0;34m)\u001b[0m\u001b[0;34m(\u001b[0m\u001b[0;34m)\u001b[0m\u001b[0;34m\u001b[0m\u001b[0m\n\u001b[0m\u001b[1;32m    288\u001b[0m \u001b[0;34m\u001b[0m\u001b[0m\n\u001b[1;32m    289\u001b[0m     \u001b[0;31m###################################################################\u001b[0m\u001b[0;34m\u001b[0m\u001b[0;34m\u001b[0m\u001b[0m\n",
      "\u001b[0;32m~/anaconda3/lib/python3.6/site-packages/scipy/sparse/coo.py\u001b[0m in \u001b[0;36mtocsc\u001b[0;34m(self, copy)\u001b[0m\n\u001b[1;32m    298\u001b[0m             \u001b[0mindptr\u001b[0m \u001b[0;34m=\u001b[0m \u001b[0mnp\u001b[0m\u001b[0;34m.\u001b[0m\u001b[0mempty\u001b[0m\u001b[0;34m(\u001b[0m\u001b[0mN\u001b[0m \u001b[0;34m+\u001b[0m \u001b[0;36m1\u001b[0m\u001b[0;34m,\u001b[0m \u001b[0mdtype\u001b[0m\u001b[0;34m=\u001b[0m\u001b[0midx_dtype\u001b[0m\u001b[0;34m)\u001b[0m\u001b[0;34m\u001b[0m\u001b[0m\n\u001b[1;32m    299\u001b[0m             \u001b[0mindices\u001b[0m \u001b[0;34m=\u001b[0m \u001b[0mnp\u001b[0m\u001b[0;34m.\u001b[0m\u001b[0mempty_like\u001b[0m\u001b[0;34m(\u001b[0m\u001b[0mrow\u001b[0m\u001b[0;34m,\u001b[0m \u001b[0mdtype\u001b[0m\u001b[0;34m=\u001b[0m\u001b[0midx_dtype\u001b[0m\u001b[0;34m)\u001b[0m\u001b[0;34m\u001b[0m\u001b[0m\n\u001b[0;32m--> 300\u001b[0;31m             \u001b[0mdata\u001b[0m \u001b[0;34m=\u001b[0m \u001b[0mnp\u001b[0m\u001b[0;34m.\u001b[0m\u001b[0mempty_like\u001b[0m\u001b[0;34m(\u001b[0m\u001b[0mself\u001b[0m\u001b[0;34m.\u001b[0m\u001b[0mdata\u001b[0m\u001b[0;34m,\u001b[0m \u001b[0mdtype\u001b[0m\u001b[0;34m=\u001b[0m\u001b[0mupcast\u001b[0m\u001b[0;34m(\u001b[0m\u001b[0mself\u001b[0m\u001b[0;34m.\u001b[0m\u001b[0mdtype\u001b[0m\u001b[0;34m)\u001b[0m\u001b[0;34m)\u001b[0m\u001b[0;34m\u001b[0m\u001b[0m\n\u001b[0m\u001b[1;32m    301\u001b[0m \u001b[0;34m\u001b[0m\u001b[0m\n\u001b[1;32m    302\u001b[0m             coo_tocsr(N, M, self.nnz, col, row, self.data,\n",
      "\u001b[0;32m~/anaconda3/lib/python3.6/site-packages/scipy/sparse/sputils.py\u001b[0m in \u001b[0;36mupcast\u001b[0;34m(*args)\u001b[0m\n\u001b[1;32m     49\u001b[0m             \u001b[0;32mreturn\u001b[0m \u001b[0mt\u001b[0m\u001b[0;34m\u001b[0m\u001b[0m\n\u001b[1;32m     50\u001b[0m \u001b[0;34m\u001b[0m\u001b[0m\n\u001b[0;32m---> 51\u001b[0;31m     \u001b[0;32mraise\u001b[0m \u001b[0mTypeError\u001b[0m\u001b[0;34m(\u001b[0m\u001b[0;34m'no supported conversion for types: %r'\u001b[0m \u001b[0;34m%\u001b[0m \u001b[0;34m(\u001b[0m\u001b[0margs\u001b[0m\u001b[0;34m,\u001b[0m\u001b[0;34m)\u001b[0m\u001b[0;34m)\u001b[0m\u001b[0;34m\u001b[0m\u001b[0m\n\u001b[0m\u001b[1;32m     52\u001b[0m \u001b[0;34m\u001b[0m\u001b[0m\n\u001b[1;32m     53\u001b[0m \u001b[0;34m\u001b[0m\u001b[0m\n",
      "\u001b[0;31mTypeError\u001b[0m: no supported conversion for types: (dtype('O'),)"
     ]
    }
   ],
   "source": [
    "# using binary relevance\n",
    "from skmultilearn.problem_transform import BinaryRelevance\n",
    "from sklearn.naive_bayes import GaussianNB\n",
    "\n",
    "# initialize binary relevance multi-label classifier\n",
    "# with a gaussian naive bayes base classifier\n",
    "classifier = BinaryRelevance(GaussianNB())\n",
    "#for label in cols_target:\n",
    "#    print('Processing {}'.format(label))\n",
    "#    y = train_df[label]\n",
    "#    classifier.fit(X_dtm, y)\n",
    "#    y_pred_X = classifier.predict(X_dtm)\n",
    "#    print('Training accuracy is {}'.format(accuracy_score(y, y_pred_X)))\n",
    "#    print('Training f1 macro is {}'.format(f1_score(y, y_pred_X, average='macro')))  \n",
    "#    print('Training f1 micro is {}'.format(f1_score(y, y_pred_X, average='micro')))  \n",
    "#    print('Training f1 weighted is {}'.format(f1_score(y, y_pred_X, average='weighted')))  \n",
    "#    test_y_prob = classifier.predict_proba(test_X_dtm)[:,1]\n",
    "classifier = BinaryRelevance(GaussianNB())\n",
    "\n",
    "# train\n",
    "classifier.fit(X_train_tfidf, y_train_tfidf)\n",
    "\n",
    "# predict\n",
    "predictions = classifier.predict(X_test_tfidf)\n",
    "\n",
    "from sklearn.metrics import accuracy_score\n",
    "accuracy_score(y_test_tfidf,predictions)\n",
    "from sklearn.metrics import f1_score\n",
    "f1_score(y_test_tfidf, predictions)"
   ]
  },
  {
   "cell_type": "code",
   "execution_count": 77,
   "metadata": {},
   "outputs": [
    {
     "data": {
      "text/plain": [
       "<100x20 sparse matrix of type '<class 'numpy.float64'>'\n",
       "\twith 1793 stored elements in Compressed Sparse Row format>"
      ]
     },
     "execution_count": 77,
     "metadata": {},
     "output_type": "execute_result"
    }
   ],
   "source": [
    "from sklearn.datasets import make_multilabel_classification\n",
    "X, y = make_multilabel_classification(sparse = True, n_labels = 20,\n",
    "return_indicator = 'sparse', allow_unlabeled = False)\n",
    "X"
   ]
  },
  {
   "cell_type": "code",
   "execution_count": 41,
   "metadata": {},
   "outputs": [
    {
     "data": {
      "text/html": [
       "<div>\n",
       "<style scoped>\n",
       "    .dataframe tbody tr th:only-of-type {\n",
       "        vertical-align: middle;\n",
       "    }\n",
       "\n",
       "    .dataframe tbody tr th {\n",
       "        vertical-align: top;\n",
       "    }\n",
       "\n",
       "    .dataframe thead th {\n",
       "        text-align: right;\n",
       "    }\n",
       "</style>\n",
       "<table border=\"1\" class=\"dataframe\">\n",
       "  <thead>\n",
       "    <tr style=\"text-align: right;\">\n",
       "      <th></th>\n",
       "      <th>Unnamed: 0</th>\n",
       "      <th>text_data</th>\n",
       "      <th>uniqueID</th>\n",
       "      <th>.id</th>\n",
       "      <th>ABDOMINAL</th>\n",
       "      <th>ADVANCED.CAD</th>\n",
       "      <th>ALCOHOL.ABUSE</th>\n",
       "      <th>ASP.FOR.MI</th>\n",
       "      <th>CREATININE</th>\n",
       "      <th>DIETSUPP.2MOS</th>\n",
       "      <th>DRUG.ABUSE</th>\n",
       "      <th>ENGLISH</th>\n",
       "      <th>HBA1C</th>\n",
       "      <th>KETO.1YR</th>\n",
       "      <th>MAJOR.DIABETES</th>\n",
       "      <th>MAKES.DECISIONS</th>\n",
       "      <th>MI.6MOS</th>\n",
       "      <th>UNIQUENUMBER</th>\n",
       "    </tr>\n",
       "  </thead>\n",
       "  <tbody>\n",
       "    <tr>\n",
       "      <th>0</th>\n",
       "      <td>1</td>\n",
       "      <td>Record date: 2106-02-12 \\n \\nCampbell Orthoped...</td>\n",
       "      <td>1</td>\n",
       "      <td>TAGS</td>\n",
       "      <td>not met</td>\n",
       "      <td>met</td>\n",
       "      <td>not met</td>\n",
       "      <td>met</td>\n",
       "      <td>not met</td>\n",
       "      <td>met</td>\n",
       "      <td>not met</td>\n",
       "      <td>met</td>\n",
       "      <td>not met</td>\n",
       "      <td>not met</td>\n",
       "      <td>met</td>\n",
       "      <td>met</td>\n",
       "      <td>met</td>\n",
       "      <td>1</td>\n",
       "    </tr>\n",
       "    <tr>\n",
       "      <th>1</th>\n",
       "      <td>2</td>\n",
       "      <td>Record date: 2079-05-12 \\n \\n \\n \\n \\n \\nMERCY...</td>\n",
       "      <td>2</td>\n",
       "      <td>TAGS</td>\n",
       "      <td>not met</td>\n",
       "      <td>met</td>\n",
       "      <td>not met</td>\n",
       "      <td>met</td>\n",
       "      <td>not met</td>\n",
       "      <td>not met</td>\n",
       "      <td>not met</td>\n",
       "      <td>met</td>\n",
       "      <td>not met</td>\n",
       "      <td>not met</td>\n",
       "      <td>not met</td>\n",
       "      <td>met</td>\n",
       "      <td>not met</td>\n",
       "      <td>2</td>\n",
       "    </tr>\n",
       "  </tbody>\n",
       "</table>\n",
       "</div>"
      ],
      "text/plain": [
       "   Unnamed: 0                                          text_data  uniqueID  \\\n",
       "0           1  Record date: 2106-02-12 \\n \\nCampbell Orthoped...         1   \n",
       "1           2  Record date: 2079-05-12 \\n \\n \\n \\n \\n \\nMERCY...         2   \n",
       "\n",
       "    .id ABDOMINAL ADVANCED.CAD ALCOHOL.ABUSE ASP.FOR.MI CREATININE  \\\n",
       "0  TAGS   not met          met       not met        met    not met   \n",
       "1  TAGS   not met          met       not met        met    not met   \n",
       "\n",
       "  DIETSUPP.2MOS DRUG.ABUSE ENGLISH    HBA1C KETO.1YR MAJOR.DIABETES  \\\n",
       "0           met    not met     met  not met  not met            met   \n",
       "1       not met    not met     met  not met  not met        not met   \n",
       "\n",
       "  MAKES.DECISIONS  MI.6MOS  UNIQUENUMBER  \n",
       "0             met      met             1  \n",
       "1             met  not met             2  "
      ]
     },
     "execution_count": 41,
     "metadata": {},
     "output_type": "execute_result"
    }
   ],
   "source": [
    "firstimported_df = pd.read_csv('https://raw.githubusercontent.com/izzykayu/n2c2/master/train/dataframe_new_all.csv?token=AckLJKImUeG22nTpk4_xbfazkhEuZPMuks5axvyDwA%3D%3D')\n",
    "firstimported_df.head(2)"
   ]
  },
  {
   "cell_type": "raw",
   "metadata": {},
   "source": [
    "# df_all = firstimported_df[['uniqueID','text_data',\n",
    "                           'ABDOMINAL','ADVANCED.CAD','ALCOHOL.ABUSE','ASP.FOR.MI',\n",
    "                           'CREATININE','DIETSUPP.2MOS','DRUG.ABUSE','ENGLISH','HBA1C','MAJOR.DIABETES','MAKES.DECISIONS','MI.6MOS']]\n",
    "df = df_all.rename(columns={'text_data': 'text'})\n",
    "X = df[['text']]\n",
    "y = df[['ABDOMINAL','ADVANCED.CAD','ALCOHOL.ABUSE','ASP.FOR.MI',\n",
    "                           'CREATININE','DIETSUPP.2MOS','DRUG.ABUSE','ENGLISH','HBA1C','MAJOR.DIABETES','MAKES.DECISIONS','MI.6MOS']]\n",
    "y.replace(('met', 'not met'), (1, 0), inplace=True)\n",
    "y.head()"
   ]
  },
  {
   "cell_type": "code",
   "execution_count": 52,
   "metadata": {},
   "outputs": [
    {
     "ename": "AttributeError",
     "evalue": "'DataFrame' object has no attribute 'comment_text'",
     "output_type": "error",
     "traceback": [
      "\u001b[0;31m---------------------------------------------------------------------------\u001b[0m",
      "\u001b[0;31mAttributeError\u001b[0m                            Traceback (most recent call last)",
      "\u001b[0;32m<ipython-input-52-0aace9efafe0>\u001b[0m in \u001b[0;36m<module>\u001b[0;34m()\u001b[0m\n\u001b[1;32m      2\u001b[0m \u001b[0;32mfrom\u001b[0m \u001b[0mastropy\u001b[0m\u001b[0;34m.\u001b[0m\u001b[0mtable\u001b[0m \u001b[0;32mimport\u001b[0m \u001b[0mTable\u001b[0m\u001b[0;34m\u001b[0m\u001b[0m\n\u001b[1;32m      3\u001b[0m \u001b[0;32mfrom\u001b[0m \u001b[0mskmultilearn\u001b[0m\u001b[0;34m.\u001b[0m\u001b[0madapt\u001b[0m \u001b[0;32mimport\u001b[0m \u001b[0mMLkNN\u001b[0m\u001b[0;34m\u001b[0m\u001b[0m\n\u001b[0;32m----> 4\u001b[0;31m \u001b[0mlens\u001b[0m \u001b[0;34m=\u001b[0m \u001b[0mtrain\u001b[0m\u001b[0;34m.\u001b[0m\u001b[0mcomment_text\u001b[0m\u001b[0;34m.\u001b[0m\u001b[0mstr\u001b[0m\u001b[0;34m.\u001b[0m\u001b[0mlen\u001b[0m\u001b[0;34m(\u001b[0m\u001b[0;34m)\u001b[0m\u001b[0;34m\u001b[0m\u001b[0m\n\u001b[0m\u001b[1;32m      5\u001b[0m \u001b[0mlens\u001b[0m\u001b[0;34m.\u001b[0m\u001b[0mmean\u001b[0m\u001b[0;34m(\u001b[0m\u001b[0;34m)\u001b[0m\u001b[0;34m,\u001b[0m \u001b[0mlens\u001b[0m\u001b[0;34m.\u001b[0m\u001b[0mstd\u001b[0m\u001b[0;34m(\u001b[0m\u001b[0;34m)\u001b[0m\u001b[0;34m,\u001b[0m \u001b[0mlens\u001b[0m\u001b[0;34m.\u001b[0m\u001b[0mmax\u001b[0m\u001b[0;34m(\u001b[0m\u001b[0;34m)\u001b[0m\u001b[0;34m\u001b[0m\u001b[0m\n",
      "\u001b[0;32m~/anaconda3/lib/python3.6/site-packages/pandas/core/generic.py\u001b[0m in \u001b[0;36m__getattr__\u001b[0;34m(self, name)\u001b[0m\n\u001b[1;32m   3612\u001b[0m             \u001b[0;32mif\u001b[0m \u001b[0mname\u001b[0m \u001b[0;32min\u001b[0m \u001b[0mself\u001b[0m\u001b[0;34m.\u001b[0m\u001b[0m_info_axis\u001b[0m\u001b[0;34m:\u001b[0m\u001b[0;34m\u001b[0m\u001b[0m\n\u001b[1;32m   3613\u001b[0m                 \u001b[0;32mreturn\u001b[0m \u001b[0mself\u001b[0m\u001b[0;34m[\u001b[0m\u001b[0mname\u001b[0m\u001b[0;34m]\u001b[0m\u001b[0;34m\u001b[0m\u001b[0m\n\u001b[0;32m-> 3614\u001b[0;31m             \u001b[0;32mreturn\u001b[0m \u001b[0mobject\u001b[0m\u001b[0;34m.\u001b[0m\u001b[0m__getattribute__\u001b[0m\u001b[0;34m(\u001b[0m\u001b[0mself\u001b[0m\u001b[0;34m,\u001b[0m \u001b[0mname\u001b[0m\u001b[0;34m)\u001b[0m\u001b[0;34m\u001b[0m\u001b[0m\n\u001b[0m\u001b[1;32m   3615\u001b[0m \u001b[0;34m\u001b[0m\u001b[0m\n\u001b[1;32m   3616\u001b[0m     \u001b[0;32mdef\u001b[0m \u001b[0m__setattr__\u001b[0m\u001b[0;34m(\u001b[0m\u001b[0mself\u001b[0m\u001b[0;34m,\u001b[0m \u001b[0mname\u001b[0m\u001b[0;34m,\u001b[0m \u001b[0mvalue\u001b[0m\u001b[0;34m)\u001b[0m\u001b[0;34m:\u001b[0m\u001b[0;34m\u001b[0m\u001b[0m\n",
      "\u001b[0;31mAttributeError\u001b[0m: 'DataFrame' object has no attribute 'comment_text'"
     ]
    }
   ],
   "source": [
    "import sys\n",
    "from astropy.table import Table\n",
    "from skmultilearn.adapt import MLkNN\n",
    "lens = train.comment_text.str.len()\n",
    "lens.mean(), lens.std(), lens.max()\n"
   ]
  },
  {
   "cell_type": "code",
   "execution_count": 48,
   "metadata": {},
   "outputs": [
    {
     "name": "stderr",
     "output_type": "stream",
     "text": [
      "/Users/isabelmetzger/anaconda3/lib/python3.6/site-packages/sklearn/model_selection/_split.py:605: Warning: The least populated class in y has only 1 members, which is too few. The minimum number of members in any class cannot be less than n_splits=2.\n",
      "  % (min_groups, self.n_splits)), Warning)\n"
     ]
    },
    {
     "ename": "TypeError",
     "evalue": "unhashable type: 'numpy.ndarray'",
     "output_type": "error",
     "traceback": [
      "\u001b[0;31m---------------------------------------------------------------------------\u001b[0m",
      "\u001b[0;31mTypeError\u001b[0m                                 Traceback (most recent call last)",
      "\u001b[0;32m<ipython-input-48-cf14024ed76f>\u001b[0m in \u001b[0;36m<module>\u001b[0;34m()\u001b[0m\n\u001b[1;32m     11\u001b[0m \u001b[0;34m\u001b[0m\u001b[0m\n\u001b[1;32m     12\u001b[0m     \u001b[0;31m# assuming classifier object exists\u001b[0m\u001b[0;34m\u001b[0m\u001b[0;34m\u001b[0m\u001b[0m\n\u001b[0;32m---> 13\u001b[0;31m     \u001b[0mX_train\u001b[0m \u001b[0;34m=\u001b[0m \u001b[0mX\u001b[0m\u001b[0;34m[\u001b[0m\u001b[0mtrain_index\u001b[0m\u001b[0;34m,\u001b[0m\u001b[0;34m:\u001b[0m\u001b[0;34m]\u001b[0m\u001b[0;34m\u001b[0m\u001b[0m\n\u001b[0m\u001b[1;32m     14\u001b[0m     \u001b[0my_train\u001b[0m \u001b[0;34m=\u001b[0m \u001b[0my\u001b[0m\u001b[0;34m[\u001b[0m\u001b[0mtrain_index\u001b[0m\u001b[0;34m,\u001b[0m\u001b[0;34m:\u001b[0m\u001b[0;34m]\u001b[0m\u001b[0;34m\u001b[0m\u001b[0m\n\u001b[1;32m     15\u001b[0m \u001b[0;34m\u001b[0m\u001b[0m\n",
      "\u001b[0;32m~/anaconda3/lib/python3.6/site-packages/pandas/core/frame.py\u001b[0m in \u001b[0;36m__getitem__\u001b[0;34m(self, key)\u001b[0m\n\u001b[1;32m   2137\u001b[0m             \u001b[0;32mreturn\u001b[0m \u001b[0mself\u001b[0m\u001b[0;34m.\u001b[0m\u001b[0m_getitem_multilevel\u001b[0m\u001b[0;34m(\u001b[0m\u001b[0mkey\u001b[0m\u001b[0;34m)\u001b[0m\u001b[0;34m\u001b[0m\u001b[0m\n\u001b[1;32m   2138\u001b[0m         \u001b[0;32melse\u001b[0m\u001b[0;34m:\u001b[0m\u001b[0;34m\u001b[0m\u001b[0m\n\u001b[0;32m-> 2139\u001b[0;31m             \u001b[0;32mreturn\u001b[0m \u001b[0mself\u001b[0m\u001b[0;34m.\u001b[0m\u001b[0m_getitem_column\u001b[0m\u001b[0;34m(\u001b[0m\u001b[0mkey\u001b[0m\u001b[0;34m)\u001b[0m\u001b[0;34m\u001b[0m\u001b[0m\n\u001b[0m\u001b[1;32m   2140\u001b[0m \u001b[0;34m\u001b[0m\u001b[0m\n\u001b[1;32m   2141\u001b[0m     \u001b[0;32mdef\u001b[0m \u001b[0m_getitem_column\u001b[0m\u001b[0;34m(\u001b[0m\u001b[0mself\u001b[0m\u001b[0;34m,\u001b[0m \u001b[0mkey\u001b[0m\u001b[0;34m)\u001b[0m\u001b[0;34m:\u001b[0m\u001b[0;34m\u001b[0m\u001b[0m\n",
      "\u001b[0;32m~/anaconda3/lib/python3.6/site-packages/pandas/core/frame.py\u001b[0m in \u001b[0;36m_getitem_column\u001b[0;34m(self, key)\u001b[0m\n\u001b[1;32m   2144\u001b[0m         \u001b[0;31m# get column\u001b[0m\u001b[0;34m\u001b[0m\u001b[0;34m\u001b[0m\u001b[0m\n\u001b[1;32m   2145\u001b[0m         \u001b[0;32mif\u001b[0m \u001b[0mself\u001b[0m\u001b[0;34m.\u001b[0m\u001b[0mcolumns\u001b[0m\u001b[0;34m.\u001b[0m\u001b[0mis_unique\u001b[0m\u001b[0;34m:\u001b[0m\u001b[0;34m\u001b[0m\u001b[0m\n\u001b[0;32m-> 2146\u001b[0;31m             \u001b[0;32mreturn\u001b[0m \u001b[0mself\u001b[0m\u001b[0;34m.\u001b[0m\u001b[0m_get_item_cache\u001b[0m\u001b[0;34m(\u001b[0m\u001b[0mkey\u001b[0m\u001b[0;34m)\u001b[0m\u001b[0;34m\u001b[0m\u001b[0m\n\u001b[0m\u001b[1;32m   2147\u001b[0m \u001b[0;34m\u001b[0m\u001b[0m\n\u001b[1;32m   2148\u001b[0m         \u001b[0;31m# duplicate columns & possible reduce dimensionality\u001b[0m\u001b[0;34m\u001b[0m\u001b[0;34m\u001b[0m\u001b[0m\n",
      "\u001b[0;32m~/anaconda3/lib/python3.6/site-packages/pandas/core/generic.py\u001b[0m in \u001b[0;36m_get_item_cache\u001b[0;34m(self, item)\u001b[0m\n\u001b[1;32m   1838\u001b[0m         \u001b[0;34m\"\"\"Return the cached item, item represents a label indexer.\"\"\"\u001b[0m\u001b[0;34m\u001b[0m\u001b[0m\n\u001b[1;32m   1839\u001b[0m         \u001b[0mcache\u001b[0m \u001b[0;34m=\u001b[0m \u001b[0mself\u001b[0m\u001b[0;34m.\u001b[0m\u001b[0m_item_cache\u001b[0m\u001b[0;34m\u001b[0m\u001b[0m\n\u001b[0;32m-> 1840\u001b[0;31m         \u001b[0mres\u001b[0m \u001b[0;34m=\u001b[0m \u001b[0mcache\u001b[0m\u001b[0;34m.\u001b[0m\u001b[0mget\u001b[0m\u001b[0;34m(\u001b[0m\u001b[0mitem\u001b[0m\u001b[0;34m)\u001b[0m\u001b[0;34m\u001b[0m\u001b[0m\n\u001b[0m\u001b[1;32m   1841\u001b[0m         \u001b[0;32mif\u001b[0m \u001b[0mres\u001b[0m \u001b[0;32mis\u001b[0m \u001b[0;32mNone\u001b[0m\u001b[0;34m:\u001b[0m\u001b[0;34m\u001b[0m\u001b[0m\n\u001b[1;32m   1842\u001b[0m             \u001b[0mvalues\u001b[0m \u001b[0;34m=\u001b[0m \u001b[0mself\u001b[0m\u001b[0;34m.\u001b[0m\u001b[0m_data\u001b[0m\u001b[0;34m.\u001b[0m\u001b[0mget\u001b[0m\u001b[0;34m(\u001b[0m\u001b[0mitem\u001b[0m\u001b[0;34m)\u001b[0m\u001b[0;34m\u001b[0m\u001b[0m\n",
      "\u001b[0;31mTypeError\u001b[0m: unhashable type: 'numpy.ndarray'"
     ]
    }
   ],
   "source": [
    "\n",
    "from sklearn.model_selection import StratifiedKFold\n",
    "from skmultilearn.problem_transform import LabelPowerset\n",
    "\n",
    "lp = LabelPowerset()\n",
    "\n",
    "n_splits = 2\n",
    "kf = StratifiedKFold(n_splits=n_splits, random_state=None)\n",
    "\n",
    "for train_index, test_index in kf.split(X, lp.transform(y)):\n",
    "\n",
    "    # assuming classifier object exists\n",
    "    X_train = X[train_index,:]\n",
    "    y_train = y[train_index,:]\n",
    "\n",
    "    X_test = X[test_index,:]\n",
    "    y_test = y[test_index,:]"
   ]
  },
  {
   "cell_type": "code",
   "execution_count": null,
   "metadata": {},
   "outputs": [],
   "source": [
    "import pandas as pd, numpy as np\n",
    "from sklearn.linear_model import LogisticRegression\n",
    "from sklearn.feature_extraction.text import CountVectorizer, TfidfVectorizer\n"
   ]
  }
 ],
 "metadata": {
  "kernelspec": {
   "display_name": "Python 3",
   "language": "python",
   "name": "python3"
  },
  "language_info": {
   "codemirror_mode": {
    "name": "ipython",
    "version": 3
   },
   "file_extension": ".py",
   "mimetype": "text/x-python",
   "name": "python",
   "nbconvert_exporter": "python",
   "pygments_lexer": "ipython3",
   "version": "3.6.4"
  }
 },
 "nbformat": 4,
 "nbformat_minor": 2
}
